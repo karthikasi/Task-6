{
  "cells": [
    {
      "cell_type": "markdown",
      "metadata": {
        "id": "view-in-github",
        "colab_type": "text"
      },
      "source": [
        "<a href=\"https://colab.research.google.com/github/karthikasi/Task-6/blob/main/Assignment8.ipynb\" target=\"_parent\"><img src=\"https://colab.research.google.com/assets/colab-badge.svg\" alt=\"Open In Colab\"/></a>"
      ]
    },
    {
      "cell_type": "markdown",
      "metadata": {
        "id": "Ixb37MS4MXou"
      },
      "source": [
        "# Assignment8"
      ]
    },
    {
      "cell_type": "code",
      "execution_count": null,
      "metadata": {
        "collapsed": true,
        "id": "nkucONASMXo9"
      },
      "outputs": [],
      "source": [
        "import pandas as pd\n",
        "import matplotlib.pyplot as plt\n",
        "import numpy as np\n",
        "from sklearn import linear_model"
      ]
    },
    {
      "cell_type": "markdown",
      "metadata": {
        "id": "p-gd_zEDMXpB"
      },
      "source": [
        "# How Much is Your Car Worth?\n",
        "\n",
        "Data about the retail price of 2005 General Motors cars can be found in `car_data.csv`.\n",
        "\n",
        "The columns are:\n",
        "\n",
        "1. Price: suggested retail price of the used 2005 GM car in excellent condition.\n",
        "2. Mileage: number of miles the car has been driven\n",
        "3. Make: manufacturer of the car such as Saturn, Pontiac, and Chevrolet\n",
        "4. Model: specific models for each car manufacturer such as Ion, Vibe, Cavalier\n",
        "5. Trim (of car): specific type of car model such as SE Sedan 4D, Quad Coupe 2D          \n",
        "6. Type: body type such as sedan, coupe, etc.      \n",
        "7. Cylinder: number of cylinders in the engine        \n",
        "8. Liter: a more specific measure of engine size     \n",
        "9. Doors: number of doors           \n",
        "10. Cruise: indicator variable representing whether the car has cruise control (1 = cruise)\n",
        "11. Sound: indicator variable representing whether the car has upgraded speakers (1 = upgraded)\n",
        "12. Leather: indicator variable representing whether the car has leather seats (1 = leather)\n",
        "\n",
        "## Tasks, Part 1\n",
        "\n",
        "1. Find the linear regression equation for mileage vs price.\n",
        "2. Chart the original data and the equation on the chart.\n",
        "3. Find the equation's $R^2$ score (use the `.score` method) to determine whether the\n",
        "equation is a good fit for this data. (0.8 and greater is considered a strong correlation.)\n",
        "\n",
        "## Tasks, Part 2\n",
        "\n",
        "1. Use mileage, cylinders, liters, doors, cruise, sound, and leather to find the linear regression equation.\n",
        "2. Find the equation's $R^2$ score (use the `.score` method) to determine whether the\n",
        "equation is a good fit for this data. (0.8 and greater is considered a strong correlation.)\n",
        "3. Find the combination of the factors that is the best predictor for price.\n",
        "\n",
        "## Tasks, Hard Mode\n",
        "\n",
        "1. Research dummy variables in scikit-learn to see how to use the make, model, and body type.\n",
        "2. Find the best combination of factors to predict price."
      ]
    },
    {
      "cell_type": "code",
      "execution_count": null,
      "metadata": {
        "id": "LEYXMPWHMXpH"
      },
      "outputs": [],
      "source": [
        "df = pd.read_csv(\"car_data.csv\")"
      ]
    },
    {
      "cell_type": "code",
      "source": [
        "df.head()"
      ],
      "metadata": {
        "colab": {
          "base_uri": "https://localhost:8080/",
          "height": 206
        },
        "id": "txsug9YOPBA-",
        "outputId": "39550ccb-82e1-4d77-c64d-ac5aaefa1917"
      },
      "execution_count": null,
      "outputs": [
        {
          "output_type": "execute_result",
          "data": {
            "text/plain": [
              "          Price  Mileage   Make    Model      Trim   Type  Cylinder  Liter  \\\n",
              "0  17314.103129     8221  Buick  Century  Sedan 4D  Sedan         6    3.1   \n",
              "1  17542.036083     9135  Buick  Century  Sedan 4D  Sedan         6    3.1   \n",
              "2  16218.847862    13196  Buick  Century  Sedan 4D  Sedan         6    3.1   \n",
              "3  16336.913140    16342  Buick  Century  Sedan 4D  Sedan         6    3.1   \n",
              "4  16339.170324    19832  Buick  Century  Sedan 4D  Sedan         6    3.1   \n",
              "\n",
              "   Doors  Cruise  Sound  Leather  \n",
              "0      4       1      1        1  \n",
              "1      4       1      1        0  \n",
              "2      4       1      1        0  \n",
              "3      4       1      0        0  \n",
              "4      4       1      0        1  "
            ],
            "text/html": [
              "\n",
              "  <div id=\"df-74237f5c-2253-42a8-b600-4aad63a0d9e5\">\n",
              "    <div class=\"colab-df-container\">\n",
              "      <div>\n",
              "<style scoped>\n",
              "    .dataframe tbody tr th:only-of-type {\n",
              "        vertical-align: middle;\n",
              "    }\n",
              "\n",
              "    .dataframe tbody tr th {\n",
              "        vertical-align: top;\n",
              "    }\n",
              "\n",
              "    .dataframe thead th {\n",
              "        text-align: right;\n",
              "    }\n",
              "</style>\n",
              "<table border=\"1\" class=\"dataframe\">\n",
              "  <thead>\n",
              "    <tr style=\"text-align: right;\">\n",
              "      <th></th>\n",
              "      <th>Price</th>\n",
              "      <th>Mileage</th>\n",
              "      <th>Make</th>\n",
              "      <th>Model</th>\n",
              "      <th>Trim</th>\n",
              "      <th>Type</th>\n",
              "      <th>Cylinder</th>\n",
              "      <th>Liter</th>\n",
              "      <th>Doors</th>\n",
              "      <th>Cruise</th>\n",
              "      <th>Sound</th>\n",
              "      <th>Leather</th>\n",
              "    </tr>\n",
              "  </thead>\n",
              "  <tbody>\n",
              "    <tr>\n",
              "      <th>0</th>\n",
              "      <td>17314.103129</td>\n",
              "      <td>8221</td>\n",
              "      <td>Buick</td>\n",
              "      <td>Century</td>\n",
              "      <td>Sedan 4D</td>\n",
              "      <td>Sedan</td>\n",
              "      <td>6</td>\n",
              "      <td>3.1</td>\n",
              "      <td>4</td>\n",
              "      <td>1</td>\n",
              "      <td>1</td>\n",
              "      <td>1</td>\n",
              "    </tr>\n",
              "    <tr>\n",
              "      <th>1</th>\n",
              "      <td>17542.036083</td>\n",
              "      <td>9135</td>\n",
              "      <td>Buick</td>\n",
              "      <td>Century</td>\n",
              "      <td>Sedan 4D</td>\n",
              "      <td>Sedan</td>\n",
              "      <td>6</td>\n",
              "      <td>3.1</td>\n",
              "      <td>4</td>\n",
              "      <td>1</td>\n",
              "      <td>1</td>\n",
              "      <td>0</td>\n",
              "    </tr>\n",
              "    <tr>\n",
              "      <th>2</th>\n",
              "      <td>16218.847862</td>\n",
              "      <td>13196</td>\n",
              "      <td>Buick</td>\n",
              "      <td>Century</td>\n",
              "      <td>Sedan 4D</td>\n",
              "      <td>Sedan</td>\n",
              "      <td>6</td>\n",
              "      <td>3.1</td>\n",
              "      <td>4</td>\n",
              "      <td>1</td>\n",
              "      <td>1</td>\n",
              "      <td>0</td>\n",
              "    </tr>\n",
              "    <tr>\n",
              "      <th>3</th>\n",
              "      <td>16336.913140</td>\n",
              "      <td>16342</td>\n",
              "      <td>Buick</td>\n",
              "      <td>Century</td>\n",
              "      <td>Sedan 4D</td>\n",
              "      <td>Sedan</td>\n",
              "      <td>6</td>\n",
              "      <td>3.1</td>\n",
              "      <td>4</td>\n",
              "      <td>1</td>\n",
              "      <td>0</td>\n",
              "      <td>0</td>\n",
              "    </tr>\n",
              "    <tr>\n",
              "      <th>4</th>\n",
              "      <td>16339.170324</td>\n",
              "      <td>19832</td>\n",
              "      <td>Buick</td>\n",
              "      <td>Century</td>\n",
              "      <td>Sedan 4D</td>\n",
              "      <td>Sedan</td>\n",
              "      <td>6</td>\n",
              "      <td>3.1</td>\n",
              "      <td>4</td>\n",
              "      <td>1</td>\n",
              "      <td>0</td>\n",
              "      <td>1</td>\n",
              "    </tr>\n",
              "  </tbody>\n",
              "</table>\n",
              "</div>\n",
              "      <button class=\"colab-df-convert\" onclick=\"convertToInteractive('df-74237f5c-2253-42a8-b600-4aad63a0d9e5')\"\n",
              "              title=\"Convert this dataframe to an interactive table.\"\n",
              "              style=\"display:none;\">\n",
              "        \n",
              "  <svg xmlns=\"http://www.w3.org/2000/svg\" height=\"24px\"viewBox=\"0 0 24 24\"\n",
              "       width=\"24px\">\n",
              "    <path d=\"M0 0h24v24H0V0z\" fill=\"none\"/>\n",
              "    <path d=\"M18.56 5.44l.94 2.06.94-2.06 2.06-.94-2.06-.94-.94-2.06-.94 2.06-2.06.94zm-11 1L8.5 8.5l.94-2.06 2.06-.94-2.06-.94L8.5 2.5l-.94 2.06-2.06.94zm10 10l.94 2.06.94-2.06 2.06-.94-2.06-.94-.94-2.06-.94 2.06-2.06.94z\"/><path d=\"M17.41 7.96l-1.37-1.37c-.4-.4-.92-.59-1.43-.59-.52 0-1.04.2-1.43.59L10.3 9.45l-7.72 7.72c-.78.78-.78 2.05 0 2.83L4 21.41c.39.39.9.59 1.41.59.51 0 1.02-.2 1.41-.59l7.78-7.78 2.81-2.81c.8-.78.8-2.07 0-2.86zM5.41 20L4 18.59l7.72-7.72 1.47 1.35L5.41 20z\"/>\n",
              "  </svg>\n",
              "      </button>\n",
              "      \n",
              "  <style>\n",
              "    .colab-df-container {\n",
              "      display:flex;\n",
              "      flex-wrap:wrap;\n",
              "      gap: 12px;\n",
              "    }\n",
              "\n",
              "    .colab-df-convert {\n",
              "      background-color: #E8F0FE;\n",
              "      border: none;\n",
              "      border-radius: 50%;\n",
              "      cursor: pointer;\n",
              "      display: none;\n",
              "      fill: #1967D2;\n",
              "      height: 32px;\n",
              "      padding: 0 0 0 0;\n",
              "      width: 32px;\n",
              "    }\n",
              "\n",
              "    .colab-df-convert:hover {\n",
              "      background-color: #E2EBFA;\n",
              "      box-shadow: 0px 1px 2px rgba(60, 64, 67, 0.3), 0px 1px 3px 1px rgba(60, 64, 67, 0.15);\n",
              "      fill: #174EA6;\n",
              "    }\n",
              "\n",
              "    [theme=dark] .colab-df-convert {\n",
              "      background-color: #3B4455;\n",
              "      fill: #D2E3FC;\n",
              "    }\n",
              "\n",
              "    [theme=dark] .colab-df-convert:hover {\n",
              "      background-color: #434B5C;\n",
              "      box-shadow: 0px 1px 3px 1px rgba(0, 0, 0, 0.15);\n",
              "      filter: drop-shadow(0px 1px 2px rgba(0, 0, 0, 0.3));\n",
              "      fill: #FFFFFF;\n",
              "    }\n",
              "  </style>\n",
              "\n",
              "      <script>\n",
              "        const buttonEl =\n",
              "          document.querySelector('#df-74237f5c-2253-42a8-b600-4aad63a0d9e5 button.colab-df-convert');\n",
              "        buttonEl.style.display =\n",
              "          google.colab.kernel.accessAllowed ? 'block' : 'none';\n",
              "\n",
              "        async function convertToInteractive(key) {\n",
              "          const element = document.querySelector('#df-74237f5c-2253-42a8-b600-4aad63a0d9e5');\n",
              "          const dataTable =\n",
              "            await google.colab.kernel.invokeFunction('convertToInteractive',\n",
              "                                                     [key], {});\n",
              "          if (!dataTable) return;\n",
              "\n",
              "          const docLinkHtml = 'Like what you see? Visit the ' +\n",
              "            '<a target=\"_blank\" href=https://colab.research.google.com/notebooks/data_table.ipynb>data table notebook</a>'\n",
              "            + ' to learn more about interactive tables.';\n",
              "          element.innerHTML = '';\n",
              "          dataTable['output_type'] = 'display_data';\n",
              "          await google.colab.output.renderOutput(dataTable, element);\n",
              "          const docLink = document.createElement('div');\n",
              "          docLink.innerHTML = docLinkHtml;\n",
              "          element.appendChild(docLink);\n",
              "        }\n",
              "      </script>\n",
              "    </div>\n",
              "  </div>\n",
              "  "
            ]
          },
          "metadata": {},
          "execution_count": 5
        }
      ]
    },
    {
      "cell_type": "code",
      "source": [
        "df.info()"
      ],
      "metadata": {
        "colab": {
          "base_uri": "https://localhost:8080/"
        },
        "id": "-F5OqHyLPBHk",
        "outputId": "c27c2316-c809-4d53-98d6-fb8499efc005"
      },
      "execution_count": null,
      "outputs": [
        {
          "output_type": "stream",
          "name": "stdout",
          "text": [
            "<class 'pandas.core.frame.DataFrame'>\n",
            "RangeIndex: 804 entries, 0 to 803\n",
            "Data columns (total 12 columns):\n",
            " #   Column    Non-Null Count  Dtype  \n",
            "---  ------    --------------  -----  \n",
            " 0   Price     804 non-null    float64\n",
            " 1   Mileage   804 non-null    int64  \n",
            " 2   Make      804 non-null    object \n",
            " 3   Model     804 non-null    object \n",
            " 4   Trim      804 non-null    object \n",
            " 5   Type      804 non-null    object \n",
            " 6   Cylinder  804 non-null    int64  \n",
            " 7   Liter     804 non-null    float64\n",
            " 8   Doors     804 non-null    int64  \n",
            " 9   Cruise    804 non-null    int64  \n",
            " 10  Sound     804 non-null    int64  \n",
            " 11  Leather   804 non-null    int64  \n",
            "dtypes: float64(2), int64(6), object(4)\n",
            "memory usage: 75.5+ KB\n"
          ]
        }
      ]
    },
    {
      "cell_type": "code",
      "source": [
        "df.shape"
      ],
      "metadata": {
        "colab": {
          "base_uri": "https://localhost:8080/"
        },
        "id": "GkiFXhfuPBOV",
        "outputId": "99b2eea9-4210-47ef-9ed8-d29a5d965b63"
      },
      "execution_count": null,
      "outputs": [
        {
          "output_type": "execute_result",
          "data": {
            "text/plain": [
              "(804, 12)"
            ]
          },
          "metadata": {},
          "execution_count": 7
        }
      ]
    },
    {
      "cell_type": "code",
      "source": [
        "df.isnull().sum()"
      ],
      "metadata": {
        "colab": {
          "base_uri": "https://localhost:8080/"
        },
        "id": "AoBasIfeQo4l",
        "outputId": "2f3ff457-8a00-4e8d-8a8a-0fc0167780eb"
      },
      "execution_count": null,
      "outputs": [
        {
          "output_type": "execute_result",
          "data": {
            "text/plain": [
              "Price       0\n",
              "Mileage     0\n",
              "Make        0\n",
              "Model       0\n",
              "Trim        0\n",
              "Type        0\n",
              "Cylinder    0\n",
              "Liter       0\n",
              "Doors       0\n",
              "Cruise      0\n",
              "Sound       0\n",
              "Leather     0\n",
              "dtype: int64"
            ]
          },
          "metadata": {},
          "execution_count": 8
        }
      ]
    },
    {
      "cell_type": "code",
      "source": [
        "df.describe().T"
      ],
      "metadata": {
        "colab": {
          "base_uri": "https://localhost:8080/",
          "height": 300
        },
        "id": "S0603je5Qo8D",
        "outputId": "7314952d-f090-41f2-abbc-d73ddb930ca7"
      },
      "execution_count": null,
      "outputs": [
        {
          "output_type": "execute_result",
          "data": {
            "text/plain": [
              "          count          mean          std          min          25%  \\\n",
              "Price     804.0  21343.143767  9884.852801  8638.930895  14273.07387   \n",
              "Mileage   804.0  19831.934080  8196.319707   266.000000  14623.50000   \n",
              "Cylinder  804.0      5.268657     1.387531     4.000000      4.00000   \n",
              "Liter     804.0      3.037313     1.105562     1.600000      2.20000   \n",
              "Doors     804.0      3.527363     0.850169     2.000000      4.00000   \n",
              "Cruise    804.0      0.752488     0.431836     0.000000      1.00000   \n",
              "Sound     804.0      0.679104     0.467111     0.000000      0.00000   \n",
              "Leather   804.0      0.723881     0.447355     0.000000      0.00000   \n",
              "\n",
              "                   50%           75%           max  \n",
              "Price     18024.995019  26717.316636  70755.466717  \n",
              "Mileage   20913.500000  25213.000000  50387.000000  \n",
              "Cylinder      6.000000      6.000000      8.000000  \n",
              "Liter         2.800000      3.800000      6.000000  \n",
              "Doors         4.000000      4.000000      4.000000  \n",
              "Cruise        1.000000      1.000000      1.000000  \n",
              "Sound         1.000000      1.000000      1.000000  \n",
              "Leather       1.000000      1.000000      1.000000  "
            ],
            "text/html": [
              "\n",
              "  <div id=\"df-e1311ea1-64bc-4f80-a7a2-39f70e94f5b3\">\n",
              "    <div class=\"colab-df-container\">\n",
              "      <div>\n",
              "<style scoped>\n",
              "    .dataframe tbody tr th:only-of-type {\n",
              "        vertical-align: middle;\n",
              "    }\n",
              "\n",
              "    .dataframe tbody tr th {\n",
              "        vertical-align: top;\n",
              "    }\n",
              "\n",
              "    .dataframe thead th {\n",
              "        text-align: right;\n",
              "    }\n",
              "</style>\n",
              "<table border=\"1\" class=\"dataframe\">\n",
              "  <thead>\n",
              "    <tr style=\"text-align: right;\">\n",
              "      <th></th>\n",
              "      <th>count</th>\n",
              "      <th>mean</th>\n",
              "      <th>std</th>\n",
              "      <th>min</th>\n",
              "      <th>25%</th>\n",
              "      <th>50%</th>\n",
              "      <th>75%</th>\n",
              "      <th>max</th>\n",
              "    </tr>\n",
              "  </thead>\n",
              "  <tbody>\n",
              "    <tr>\n",
              "      <th>Price</th>\n",
              "      <td>804.0</td>\n",
              "      <td>21343.143767</td>\n",
              "      <td>9884.852801</td>\n",
              "      <td>8638.930895</td>\n",
              "      <td>14273.07387</td>\n",
              "      <td>18024.995019</td>\n",
              "      <td>26717.316636</td>\n",
              "      <td>70755.466717</td>\n",
              "    </tr>\n",
              "    <tr>\n",
              "      <th>Mileage</th>\n",
              "      <td>804.0</td>\n",
              "      <td>19831.934080</td>\n",
              "      <td>8196.319707</td>\n",
              "      <td>266.000000</td>\n",
              "      <td>14623.50000</td>\n",
              "      <td>20913.500000</td>\n",
              "      <td>25213.000000</td>\n",
              "      <td>50387.000000</td>\n",
              "    </tr>\n",
              "    <tr>\n",
              "      <th>Cylinder</th>\n",
              "      <td>804.0</td>\n",
              "      <td>5.268657</td>\n",
              "      <td>1.387531</td>\n",
              "      <td>4.000000</td>\n",
              "      <td>4.00000</td>\n",
              "      <td>6.000000</td>\n",
              "      <td>6.000000</td>\n",
              "      <td>8.000000</td>\n",
              "    </tr>\n",
              "    <tr>\n",
              "      <th>Liter</th>\n",
              "      <td>804.0</td>\n",
              "      <td>3.037313</td>\n",
              "      <td>1.105562</td>\n",
              "      <td>1.600000</td>\n",
              "      <td>2.20000</td>\n",
              "      <td>2.800000</td>\n",
              "      <td>3.800000</td>\n",
              "      <td>6.000000</td>\n",
              "    </tr>\n",
              "    <tr>\n",
              "      <th>Doors</th>\n",
              "      <td>804.0</td>\n",
              "      <td>3.527363</td>\n",
              "      <td>0.850169</td>\n",
              "      <td>2.000000</td>\n",
              "      <td>4.00000</td>\n",
              "      <td>4.000000</td>\n",
              "      <td>4.000000</td>\n",
              "      <td>4.000000</td>\n",
              "    </tr>\n",
              "    <tr>\n",
              "      <th>Cruise</th>\n",
              "      <td>804.0</td>\n",
              "      <td>0.752488</td>\n",
              "      <td>0.431836</td>\n",
              "      <td>0.000000</td>\n",
              "      <td>1.00000</td>\n",
              "      <td>1.000000</td>\n",
              "      <td>1.000000</td>\n",
              "      <td>1.000000</td>\n",
              "    </tr>\n",
              "    <tr>\n",
              "      <th>Sound</th>\n",
              "      <td>804.0</td>\n",
              "      <td>0.679104</td>\n",
              "      <td>0.467111</td>\n",
              "      <td>0.000000</td>\n",
              "      <td>0.00000</td>\n",
              "      <td>1.000000</td>\n",
              "      <td>1.000000</td>\n",
              "      <td>1.000000</td>\n",
              "    </tr>\n",
              "    <tr>\n",
              "      <th>Leather</th>\n",
              "      <td>804.0</td>\n",
              "      <td>0.723881</td>\n",
              "      <td>0.447355</td>\n",
              "      <td>0.000000</td>\n",
              "      <td>0.00000</td>\n",
              "      <td>1.000000</td>\n",
              "      <td>1.000000</td>\n",
              "      <td>1.000000</td>\n",
              "    </tr>\n",
              "  </tbody>\n",
              "</table>\n",
              "</div>\n",
              "      <button class=\"colab-df-convert\" onclick=\"convertToInteractive('df-e1311ea1-64bc-4f80-a7a2-39f70e94f5b3')\"\n",
              "              title=\"Convert this dataframe to an interactive table.\"\n",
              "              style=\"display:none;\">\n",
              "        \n",
              "  <svg xmlns=\"http://www.w3.org/2000/svg\" height=\"24px\"viewBox=\"0 0 24 24\"\n",
              "       width=\"24px\">\n",
              "    <path d=\"M0 0h24v24H0V0z\" fill=\"none\"/>\n",
              "    <path d=\"M18.56 5.44l.94 2.06.94-2.06 2.06-.94-2.06-.94-.94-2.06-.94 2.06-2.06.94zm-11 1L8.5 8.5l.94-2.06 2.06-.94-2.06-.94L8.5 2.5l-.94 2.06-2.06.94zm10 10l.94 2.06.94-2.06 2.06-.94-2.06-.94-.94-2.06-.94 2.06-2.06.94z\"/><path d=\"M17.41 7.96l-1.37-1.37c-.4-.4-.92-.59-1.43-.59-.52 0-1.04.2-1.43.59L10.3 9.45l-7.72 7.72c-.78.78-.78 2.05 0 2.83L4 21.41c.39.39.9.59 1.41.59.51 0 1.02-.2 1.41-.59l7.78-7.78 2.81-2.81c.8-.78.8-2.07 0-2.86zM5.41 20L4 18.59l7.72-7.72 1.47 1.35L5.41 20z\"/>\n",
              "  </svg>\n",
              "      </button>\n",
              "      \n",
              "  <style>\n",
              "    .colab-df-container {\n",
              "      display:flex;\n",
              "      flex-wrap:wrap;\n",
              "      gap: 12px;\n",
              "    }\n",
              "\n",
              "    .colab-df-convert {\n",
              "      background-color: #E8F0FE;\n",
              "      border: none;\n",
              "      border-radius: 50%;\n",
              "      cursor: pointer;\n",
              "      display: none;\n",
              "      fill: #1967D2;\n",
              "      height: 32px;\n",
              "      padding: 0 0 0 0;\n",
              "      width: 32px;\n",
              "    }\n",
              "\n",
              "    .colab-df-convert:hover {\n",
              "      background-color: #E2EBFA;\n",
              "      box-shadow: 0px 1px 2px rgba(60, 64, 67, 0.3), 0px 1px 3px 1px rgba(60, 64, 67, 0.15);\n",
              "      fill: #174EA6;\n",
              "    }\n",
              "\n",
              "    [theme=dark] .colab-df-convert {\n",
              "      background-color: #3B4455;\n",
              "      fill: #D2E3FC;\n",
              "    }\n",
              "\n",
              "    [theme=dark] .colab-df-convert:hover {\n",
              "      background-color: #434B5C;\n",
              "      box-shadow: 0px 1px 3px 1px rgba(0, 0, 0, 0.15);\n",
              "      filter: drop-shadow(0px 1px 2px rgba(0, 0, 0, 0.3));\n",
              "      fill: #FFFFFF;\n",
              "    }\n",
              "  </style>\n",
              "\n",
              "      <script>\n",
              "        const buttonEl =\n",
              "          document.querySelector('#df-e1311ea1-64bc-4f80-a7a2-39f70e94f5b3 button.colab-df-convert');\n",
              "        buttonEl.style.display =\n",
              "          google.colab.kernel.accessAllowed ? 'block' : 'none';\n",
              "\n",
              "        async function convertToInteractive(key) {\n",
              "          const element = document.querySelector('#df-e1311ea1-64bc-4f80-a7a2-39f70e94f5b3');\n",
              "          const dataTable =\n",
              "            await google.colab.kernel.invokeFunction('convertToInteractive',\n",
              "                                                     [key], {});\n",
              "          if (!dataTable) return;\n",
              "\n",
              "          const docLinkHtml = 'Like what you see? Visit the ' +\n",
              "            '<a target=\"_blank\" href=https://colab.research.google.com/notebooks/data_table.ipynb>data table notebook</a>'\n",
              "            + ' to learn more about interactive tables.';\n",
              "          element.innerHTML = '';\n",
              "          dataTable['output_type'] = 'display_data';\n",
              "          await google.colab.output.renderOutput(dataTable, element);\n",
              "          const docLink = document.createElement('div');\n",
              "          docLink.innerHTML = docLinkHtml;\n",
              "          element.appendChild(docLink);\n",
              "        }\n",
              "      </script>\n",
              "    </div>\n",
              "  </div>\n",
              "  "
            ]
          },
          "metadata": {},
          "execution_count": 9
        }
      ]
    },
    {
      "cell_type": "code",
      "source": [
        "df.corr()"
      ],
      "metadata": {
        "colab": {
          "base_uri": "https://localhost:8080/",
          "height": 300
        },
        "id": "clmsl6ATQpAi",
        "outputId": "17b25a4f-6200-4e99-8196-bf8c9e0db105"
      },
      "execution_count": null,
      "outputs": [
        {
          "output_type": "execute_result",
          "data": {
            "text/plain": [
              "             Price   Mileage  Cylinder     Liter     Doors    Cruise  \\\n",
              "Price     1.000000 -0.143051  0.569086  0.558146 -0.138750  0.430851   \n",
              "Mileage  -0.143051  1.000000 -0.029461 -0.018641 -0.016944  0.025037   \n",
              "Cylinder  0.569086 -0.029461  1.000000  0.957897  0.002206  0.354285   \n",
              "Liter     0.558146 -0.018641  0.957897  1.000000 -0.079259  0.377509   \n",
              "Doors    -0.138750 -0.016944  0.002206 -0.079259  1.000000 -0.047674   \n",
              "Cruise    0.430851  0.025037  0.354285  0.377509 -0.047674  1.000000   \n",
              "Sound    -0.124348 -0.026146 -0.089704 -0.065527 -0.062530 -0.091730   \n",
              "Leather   0.157197  0.001005  0.075520  0.087332 -0.061969 -0.070573   \n",
              "\n",
              "             Sound   Leather  \n",
              "Price    -0.124348  0.157197  \n",
              "Mileage  -0.026146  0.001005  \n",
              "Cylinder -0.089704  0.075520  \n",
              "Liter    -0.065527  0.087332  \n",
              "Doors    -0.062530 -0.061969  \n",
              "Cruise   -0.091730 -0.070573  \n",
              "Sound     1.000000  0.165444  \n",
              "Leather   0.165444  1.000000  "
            ],
            "text/html": [
              "\n",
              "  <div id=\"df-a9aef3f3-c45b-4364-99b9-a74438a6fa75\">\n",
              "    <div class=\"colab-df-container\">\n",
              "      <div>\n",
              "<style scoped>\n",
              "    .dataframe tbody tr th:only-of-type {\n",
              "        vertical-align: middle;\n",
              "    }\n",
              "\n",
              "    .dataframe tbody tr th {\n",
              "        vertical-align: top;\n",
              "    }\n",
              "\n",
              "    .dataframe thead th {\n",
              "        text-align: right;\n",
              "    }\n",
              "</style>\n",
              "<table border=\"1\" class=\"dataframe\">\n",
              "  <thead>\n",
              "    <tr style=\"text-align: right;\">\n",
              "      <th></th>\n",
              "      <th>Price</th>\n",
              "      <th>Mileage</th>\n",
              "      <th>Cylinder</th>\n",
              "      <th>Liter</th>\n",
              "      <th>Doors</th>\n",
              "      <th>Cruise</th>\n",
              "      <th>Sound</th>\n",
              "      <th>Leather</th>\n",
              "    </tr>\n",
              "  </thead>\n",
              "  <tbody>\n",
              "    <tr>\n",
              "      <th>Price</th>\n",
              "      <td>1.000000</td>\n",
              "      <td>-0.143051</td>\n",
              "      <td>0.569086</td>\n",
              "      <td>0.558146</td>\n",
              "      <td>-0.138750</td>\n",
              "      <td>0.430851</td>\n",
              "      <td>-0.124348</td>\n",
              "      <td>0.157197</td>\n",
              "    </tr>\n",
              "    <tr>\n",
              "      <th>Mileage</th>\n",
              "      <td>-0.143051</td>\n",
              "      <td>1.000000</td>\n",
              "      <td>-0.029461</td>\n",
              "      <td>-0.018641</td>\n",
              "      <td>-0.016944</td>\n",
              "      <td>0.025037</td>\n",
              "      <td>-0.026146</td>\n",
              "      <td>0.001005</td>\n",
              "    </tr>\n",
              "    <tr>\n",
              "      <th>Cylinder</th>\n",
              "      <td>0.569086</td>\n",
              "      <td>-0.029461</td>\n",
              "      <td>1.000000</td>\n",
              "      <td>0.957897</td>\n",
              "      <td>0.002206</td>\n",
              "      <td>0.354285</td>\n",
              "      <td>-0.089704</td>\n",
              "      <td>0.075520</td>\n",
              "    </tr>\n",
              "    <tr>\n",
              "      <th>Liter</th>\n",
              "      <td>0.558146</td>\n",
              "      <td>-0.018641</td>\n",
              "      <td>0.957897</td>\n",
              "      <td>1.000000</td>\n",
              "      <td>-0.079259</td>\n",
              "      <td>0.377509</td>\n",
              "      <td>-0.065527</td>\n",
              "      <td>0.087332</td>\n",
              "    </tr>\n",
              "    <tr>\n",
              "      <th>Doors</th>\n",
              "      <td>-0.138750</td>\n",
              "      <td>-0.016944</td>\n",
              "      <td>0.002206</td>\n",
              "      <td>-0.079259</td>\n",
              "      <td>1.000000</td>\n",
              "      <td>-0.047674</td>\n",
              "      <td>-0.062530</td>\n",
              "      <td>-0.061969</td>\n",
              "    </tr>\n",
              "    <tr>\n",
              "      <th>Cruise</th>\n",
              "      <td>0.430851</td>\n",
              "      <td>0.025037</td>\n",
              "      <td>0.354285</td>\n",
              "      <td>0.377509</td>\n",
              "      <td>-0.047674</td>\n",
              "      <td>1.000000</td>\n",
              "      <td>-0.091730</td>\n",
              "      <td>-0.070573</td>\n",
              "    </tr>\n",
              "    <tr>\n",
              "      <th>Sound</th>\n",
              "      <td>-0.124348</td>\n",
              "      <td>-0.026146</td>\n",
              "      <td>-0.089704</td>\n",
              "      <td>-0.065527</td>\n",
              "      <td>-0.062530</td>\n",
              "      <td>-0.091730</td>\n",
              "      <td>1.000000</td>\n",
              "      <td>0.165444</td>\n",
              "    </tr>\n",
              "    <tr>\n",
              "      <th>Leather</th>\n",
              "      <td>0.157197</td>\n",
              "      <td>0.001005</td>\n",
              "      <td>0.075520</td>\n",
              "      <td>0.087332</td>\n",
              "      <td>-0.061969</td>\n",
              "      <td>-0.070573</td>\n",
              "      <td>0.165444</td>\n",
              "      <td>1.000000</td>\n",
              "    </tr>\n",
              "  </tbody>\n",
              "</table>\n",
              "</div>\n",
              "      <button class=\"colab-df-convert\" onclick=\"convertToInteractive('df-a9aef3f3-c45b-4364-99b9-a74438a6fa75')\"\n",
              "              title=\"Convert this dataframe to an interactive table.\"\n",
              "              style=\"display:none;\">\n",
              "        \n",
              "  <svg xmlns=\"http://www.w3.org/2000/svg\" height=\"24px\"viewBox=\"0 0 24 24\"\n",
              "       width=\"24px\">\n",
              "    <path d=\"M0 0h24v24H0V0z\" fill=\"none\"/>\n",
              "    <path d=\"M18.56 5.44l.94 2.06.94-2.06 2.06-.94-2.06-.94-.94-2.06-.94 2.06-2.06.94zm-11 1L8.5 8.5l.94-2.06 2.06-.94-2.06-.94L8.5 2.5l-.94 2.06-2.06.94zm10 10l.94 2.06.94-2.06 2.06-.94-2.06-.94-.94-2.06-.94 2.06-2.06.94z\"/><path d=\"M17.41 7.96l-1.37-1.37c-.4-.4-.92-.59-1.43-.59-.52 0-1.04.2-1.43.59L10.3 9.45l-7.72 7.72c-.78.78-.78 2.05 0 2.83L4 21.41c.39.39.9.59 1.41.59.51 0 1.02-.2 1.41-.59l7.78-7.78 2.81-2.81c.8-.78.8-2.07 0-2.86zM5.41 20L4 18.59l7.72-7.72 1.47 1.35L5.41 20z\"/>\n",
              "  </svg>\n",
              "      </button>\n",
              "      \n",
              "  <style>\n",
              "    .colab-df-container {\n",
              "      display:flex;\n",
              "      flex-wrap:wrap;\n",
              "      gap: 12px;\n",
              "    }\n",
              "\n",
              "    .colab-df-convert {\n",
              "      background-color: #E8F0FE;\n",
              "      border: none;\n",
              "      border-radius: 50%;\n",
              "      cursor: pointer;\n",
              "      display: none;\n",
              "      fill: #1967D2;\n",
              "      height: 32px;\n",
              "      padding: 0 0 0 0;\n",
              "      width: 32px;\n",
              "    }\n",
              "\n",
              "    .colab-df-convert:hover {\n",
              "      background-color: #E2EBFA;\n",
              "      box-shadow: 0px 1px 2px rgba(60, 64, 67, 0.3), 0px 1px 3px 1px rgba(60, 64, 67, 0.15);\n",
              "      fill: #174EA6;\n",
              "    }\n",
              "\n",
              "    [theme=dark] .colab-df-convert {\n",
              "      background-color: #3B4455;\n",
              "      fill: #D2E3FC;\n",
              "    }\n",
              "\n",
              "    [theme=dark] .colab-df-convert:hover {\n",
              "      background-color: #434B5C;\n",
              "      box-shadow: 0px 1px 3px 1px rgba(0, 0, 0, 0.15);\n",
              "      filter: drop-shadow(0px 1px 2px rgba(0, 0, 0, 0.3));\n",
              "      fill: #FFFFFF;\n",
              "    }\n",
              "  </style>\n",
              "\n",
              "      <script>\n",
              "        const buttonEl =\n",
              "          document.querySelector('#df-a9aef3f3-c45b-4364-99b9-a74438a6fa75 button.colab-df-convert');\n",
              "        buttonEl.style.display =\n",
              "          google.colab.kernel.accessAllowed ? 'block' : 'none';\n",
              "\n",
              "        async function convertToInteractive(key) {\n",
              "          const element = document.querySelector('#df-a9aef3f3-c45b-4364-99b9-a74438a6fa75');\n",
              "          const dataTable =\n",
              "            await google.colab.kernel.invokeFunction('convertToInteractive',\n",
              "                                                     [key], {});\n",
              "          if (!dataTable) return;\n",
              "\n",
              "          const docLinkHtml = 'Like what you see? Visit the ' +\n",
              "            '<a target=\"_blank\" href=https://colab.research.google.com/notebooks/data_table.ipynb>data table notebook</a>'\n",
              "            + ' to learn more about interactive tables.';\n",
              "          element.innerHTML = '';\n",
              "          dataTable['output_type'] = 'display_data';\n",
              "          await google.colab.output.renderOutput(dataTable, element);\n",
              "          const docLink = document.createElement('div');\n",
              "          docLink.innerHTML = docLinkHtml;\n",
              "          element.appendChild(docLink);\n",
              "        }\n",
              "      </script>\n",
              "    </div>\n",
              "  </div>\n",
              "  "
            ]
          },
          "metadata": {},
          "execution_count": 10
        }
      ]
    },
    {
      "cell_type": "code",
      "source": [
        "df.boxplot()"
      ],
      "metadata": {
        "colab": {
          "base_uri": "https://localhost:8080/",
          "height": 282
        },
        "id": "AZmXDp8bQpEg",
        "outputId": "c3d266fe-41b5-4cd3-bd20-377eff2be396"
      },
      "execution_count": null,
      "outputs": [
        {
          "output_type": "execute_result",
          "data": {
            "text/plain": [
              "<matplotlib.axes._subplots.AxesSubplot at 0x7f3b69a6bc10>"
            ]
          },
          "metadata": {},
          "execution_count": 11
        },
        {
          "output_type": "display_data",
          "data": {
            "text/plain": [
              "<Figure size 432x288 with 1 Axes>"
            ],
            "image/png": "[encoded data removed]"
          },
          "metadata": {
            "needs_background": "light"
          }
        }
      ]
    },
    {
      "cell_type": "code",
      "source": [
        "import seaborn as sns\n",
        "sns.pairplot(df)"
      ],
      "metadata": {
        "colab": {
          "base_uri": "https://localhost:8080/",
          "height": 977
        },
        "id": "KtErTFqjW5Tl",
        "outputId": "aed0822d-29f5-4bda-ad06-681b89824e0a"
      },
      "execution_count": null,
      "outputs": [
        {
          "output_type": "execute_result",
          "data": {
            "text/plain": [
              "<seaborn.axisgrid.PairGrid at 0x7f3b6936e710>"
            ]
          },
          "metadata": {},
          "execution_count": 12
        },
        {
          "output_type": "display_data",
          "data": {
            "text/plain": [
              "<Figure size 1440x1440 with 72 Axes>"
            ],
            "image/png": "[encoded data removed]"
          },
          "metadata": {
            "needs_background": "light"
          }
        }
      ]
    },
    {
      "cell_type": "code",
      "source": [
        "df.plot(x=\"Price\",y=\"Mileage\",style=\"o\")"
      ],
      "metadata": {
        "colab": {
          "base_uri": "https://localhost:8080/",
          "height": 296
        },
        "id": "KRH5Mc11YDUa",
        "outputId": "c118c748-3e2d-49cf-c1fe-864e7fb83940"
      },
      "execution_count": null,
      "outputs": [
        {
          "output_type": "execute_result",
          "data": {
            "text/plain": [
              "<matplotlib.axes._subplots.AxesSubplot at 0x7f3b64a10250>"
            ]
          },
          "metadata": {},
          "execution_count": 13
        },
        {
          "output_type": "display_data",
          "data": {
            "text/plain": [
              "<Figure size 432x288 with 1 Axes>"
            ],
            "image/png": "[encoded data removed]"
          },
          "metadata": {
            "needs_background": "light"
          }
        }
      ]
    },
    {
      "cell_type": "code",
      "source": [
        "sns.boxplot(df[\"Mileage\"])"
      ],
      "metadata": {
        "colab": {
          "base_uri": "https://localhost:8080/",
          "height": 351
        },
        "id": "nwRAj935e4Xq",
        "outputId": "01cb6278-a3bd-47a8-abf3-05ae104e2366"
      },
      "execution_count": null,
      "outputs": [
        {
          "output_type": "stream",
          "name": "stderr",
          "text": [
            "/usr/local/lib/python3.7/dist-packages/seaborn/_decorators.py:43: FutureWarning: Pass the following variable as a keyword arg: x. From version 0.12, the only valid positional argument will be `data`, and passing other arguments without an explicit keyword will result in an error or misinterpretation.\n",
            "  FutureWarning\n"
          ]
        },
        {
          "output_type": "execute_result",
          "data": {
            "text/plain": [
              "<matplotlib.axes._subplots.AxesSubplot at 0x7f3b647d3110>"
            ]
          },
          "metadata": {},
          "execution_count": 14
        },
        {
          "output_type": "display_data",
          "data": {
            "text/plain": [
              "<Figure size 432x288 with 1 Axes>"
            ],
            "image/png": "[encoded data removed]"
          },
          "metadata": {
            "needs_background": "light"
          }
        }
      ]
    },
    {
      "cell_type": "code",
      "source": [
        "Q1 = df['Mileage'].quantile(0.25)\n",
        "Q3 = df['Mileage'].quantile(0.75)\n",
        "print(\"25th percentile of the data is \",Q1)\n",
        "print(\"75th percentile of the data is \",Q1)\n",
        "IQR= Q3 - Q1\n",
        "print(\"IQR :\", IQR)"
      ],
      "metadata": {
        "colab": {
          "base_uri": "https://localhost:8080/"
        },
        "id": "XTEZuE2Ve4g5",
        "outputId": "f06db61f-e34b-4b53-e3b1-c4358029e4a5"
      },
      "execution_count": null,
      "outputs": [
        {
          "output_type": "stream",
          "name": "stdout",
          "text": [
            "25th percentile of the data is  14623.5\n",
            "75th percentile of the data is  14623.5\n",
            "IQR : 10589.5\n"
          ]
        }
      ]
    },
    {
      "cell_type": "code",
      "source": [
        "max_value = Q3 + 1.5 * (IQR)\n",
        "min_value = Q1 - 1.5 * (IQR)\n",
        "print(max_value)\n",
        "print(min_value)"
      ],
      "metadata": {
        "colab": {
          "base_uri": "https://localhost:8080/"
        },
        "id": "Kjn5EfPme4kX",
        "outputId": "07e03ab3-d2e2-4f62-f2e7-bf67e30c34c7"
      },
      "execution_count": null,
      "outputs": [
        {
          "output_type": "stream",
          "name": "stdout",
          "text": [
            "41097.25\n",
            "-1260.75\n"
          ]
        }
      ]
    },
    {
      "cell_type": "code",
      "source": [
        "df['Mileage'] = np.where(\n",
        "    df['Mileage']>max_value,\n",
        "    max_value,\n",
        "    np.where(\n",
        "        df['Mileage']<min_value,\n",
        "        min_value,\n",
        "        df['Mileage']\n",
        "    ) \n",
        ")"
      ],
      "metadata": {
        "id": "mVJ6QI0oiSk8"
      },
      "execution_count": null,
      "outputs": []
    },
    {
      "cell_type": "code",
      "source": [
        "df['Mileage'].describe()"
      ],
      "metadata": {
        "colab": {
          "base_uri": "https://localhost:8080/"
        },
        "id": "fhKYf6GOiXx6",
        "outputId": "61f6de8e-0ca8-4571-81c1-876a6a72eeb7"
      },
      "execution_count": null,
      "outputs": [
        {
          "output_type": "execute_result",
          "data": {
            "text/plain": [
              "count      804.000000\n",
              "mean     19807.086132\n",
              "std       8119.836852\n",
              "min        266.000000\n",
              "25%      14623.500000\n",
              "50%      20913.500000\n",
              "75%      25213.000000\n",
              "max      41097.250000\n",
              "Name: Mileage, dtype: float64"
            ]
          },
          "metadata": {},
          "execution_count": 18
        }
      ]
    },
    {
      "cell_type": "code",
      "source": [
        "sns.boxplot(df['Mileage'])"
      ],
      "metadata": {
        "colab": {
          "base_uri": "https://localhost:8080/",
          "height": 351
        },
        "id": "3e3WXFwRizeJ",
        "outputId": "ed9f966c-2bfe-44d3-c4d0-fadd5ee18236"
      },
      "execution_count": null,
      "outputs": [
        {
          "output_type": "stream",
          "name": "stderr",
          "text": [
            "/usr/local/lib/python3.7/dist-packages/seaborn/_decorators.py:43: FutureWarning: Pass the following variable as a keyword arg: x. From version 0.12, the only valid positional argument will be `data`, and passing other arguments without an explicit keyword will result in an error or misinterpretation.\n",
            "  FutureWarning\n"
          ]
        },
        {
          "output_type": "execute_result",
          "data": {
            "text/plain": [
              "<matplotlib.axes._subplots.AxesSubplot at 0x7f3b62f31950>"
            ]
          },
          "metadata": {},
          "execution_count": 19
        },
        {
          "output_type": "display_data",
          "data": {
            "text/plain": [
              "<Figure size 432x288 with 1 Axes>"
            ],
            "image/png": "[encoded data removed]"
          },
          "metadata": {
            "needs_background": "light"
          }
        }
      ]
    },
    {
      "cell_type": "code",
      "source": [
        "X=df[[\"Mileage\"]].values\n",
        "y=df[\"Price\"].values"
      ],
      "metadata": {
        "id": "ihpiHmwPPBR6"
      },
      "execution_count": null,
      "outputs": []
    },
    {
      "cell_type": "code",
      "source": [
        "len(X)"
      ],
      "metadata": {
        "colab": {
          "base_uri": "https://localhost:8080/"
        },
        "id": "P5flmlkYRFS_",
        "outputId": "e193984b-be36-4da5-d9ba-d94e338b8be6"
      },
      "execution_count": null,
      "outputs": [
        {
          "output_type": "execute_result",
          "data": {
            "text/plain": [
              "804"
            ]
          },
          "metadata": {},
          "execution_count": 21
        }
      ]
    },
    {
      "cell_type": "code",
      "source": [
        "len(y)"
      ],
      "metadata": {
        "colab": {
          "base_uri": "https://localhost:8080/"
        },
        "id": "D-xy9qVkRFWG",
        "outputId": "16bb5f34-3904-48ac-e478-14f556e37f26"
      },
      "execution_count": null,
      "outputs": [
        {
          "output_type": "execute_result",
          "data": {
            "text/plain": [
              "804"
            ]
          },
          "metadata": {},
          "execution_count": 22
        }
      ]
    },
    {
      "cell_type": "code",
      "source": [
        "from sklearn.model_selection import train_test_split\n",
        "X_train,X_test,Y_train,Y_test= train_test_split(X,y,test_size=0.3,random_state=5)"
      ],
      "metadata": {
        "id": "afy6wd1KRFeE"
      },
      "execution_count": null,
      "outputs": []
    },
    {
      "cell_type": "code",
      "source": [
        "X_train.shape,X_test.shape"
      ],
      "metadata": {
        "colab": {
          "base_uri": "https://localhost:8080/"
        },
        "id": "6JWyUqGYS764",
        "outputId": "9f733a33-d47e-4eea-9e57-a6f369ebe294"
      },
      "execution_count": null,
      "outputs": [
        {
          "output_type": "execute_result",
          "data": {
            "text/plain": [
              "((562, 1), (242, 1))"
            ]
          },
          "metadata": {},
          "execution_count": 24
        }
      ]
    },
    {
      "cell_type": "code",
      "source": [
        "Y_train.shape,Y_test.shape"
      ],
      "metadata": {
        "colab": {
          "base_uri": "https://localhost:8080/"
        },
        "id": "ojOyAtXUS7-H",
        "outputId": "1fe72ea3-413f-4f4f-baed-cc106101bf9e"
      },
      "execution_count": null,
      "outputs": [
        {
          "output_type": "execute_result",
          "data": {
            "text/plain": [
              "((562,), (242,))"
            ]
          },
          "metadata": {},
          "execution_count": 25
        }
      ]
    },
    {
      "cell_type": "code",
      "source": [],
      "metadata": {
        "id": "UZvHYjqVVNMJ"
      },
      "execution_count": null,
      "outputs": []
    },
    {
      "cell_type": "code",
      "source": [
        "from sklearn.linear_model import LinearRegression # import required functiom\n",
        "regressor = LinearRegression() # initialize \n",
        "regressor.fit(X_train,Y_train) "
      ],
      "metadata": {
        "colab": {
          "base_uri": "https://localhost:8080/"
        },
        "id": "TPArAhdaVNRM",
        "outputId": "1a1bcf0a-d488-4963-b771-e579563b9cf9"
      },
      "execution_count": null,
      "outputs": [
        {
          "output_type": "execute_result",
          "data": {
            "text/plain": [
              "LinearRegression()"
            ]
          },
          "metadata": {},
          "execution_count": 26
        }
      ]
    },
    {
      "cell_type": "code",
      "source": [
        "m=regressor.coef_\n",
        "c=regressor.intercept_\n",
        "pred=m*8221+c\n",
        "print(\"y =\",pred)# predicted output"
      ],
      "metadata": {
        "colab": {
          "base_uri": "https://localhost:8080/"
        },
        "id": "wsZZYztCVNVT",
        "outputId": "6bf44d70-cc99-43ec-9ada-264a01afd740"
      },
      "execution_count": null,
      "outputs": [
        {
          "output_type": "stream",
          "name": "stdout",
          "text": [
            "y = [23347.52934058]\n"
          ]
        }
      ]
    },
    {
      "cell_type": "code",
      "source": [
        "y_pred=regressor.predict(X_test)\n",
        "y_pred"
      ],
      "metadata": {
        "colab": {
          "base_uri": "https://localhost:8080/"
        },
        "id": "d-seomd3VNaq",
        "outputId": "dd880c0c-7994-47c0-a45c-c87a73d2fd99"
      },
      "execution_count": null,
      "outputs": [
        {
          "output_type": "execute_result",
          "data": {
            "text/plain": [
              "array([20637.4099093 , 23756.92291971, 18217.96574826, 19565.4476995 ,\n",
              "       24367.22440621, 17375.2794869 , 23041.69854155, 18606.95765401,\n",
              "       18719.65261172, 16959.61967952, 20010.78708411, 17357.59803664,\n",
              "       20526.46366645, 21546.93593869, 18563.23978248, 19844.46487066,\n",
              "       20190.51611149, 20838.90072162, 19942.19860122, 20577.17639742,\n",
              "       21637.86911146, 21233.72167691, 22078.15665313, 21397.51796889,\n",
              "       20499.06713363, 22112.1594421 , 19238.63232214, 22064.55553755,\n",
              "       19951.91368378, 19587.20948444, 20478.66546025, 21338.25596527,\n",
              "       21713.06385048, 20959.36774538, 23459.44709169, 23243.96656048,\n",
              "       20959.75634869, 24385.48876142, 21081.583484  , 23631.20975137,\n",
              "       20793.23983359, 21094.60169464, 22357.17382429, 22287.22522985,\n",
              "       21039.42002569, 22687.29232972, 24040.9919338 , 21409.56467127,\n",
              "       24717.74458502, 23697.46661444, 22135.08703694, 23323.43593583,\n",
              "       22118.57139659, 21270.63899064, 22258.07998217, 20152.43298785,\n",
              "       19839.41302773, 20448.16010101, 18771.33685095, 22824.08069218,\n",
              "       19624.12679817, 19741.67929716, 19887.59983723, 22185.79976791,\n",
              "       21737.35155689, 17393.15523881, 20040.70953839, 19840.19023433,\n",
              "       21798.55657702, 23041.69854155, 20039.34942684, 19829.30934186,\n",
              "       21576.27548802, 21157.94403293, 21250.43161892, 19653.85495081,\n",
              "       21631.45715697, 18767.83942122, 20546.47673653, 21702.37725966,\n",
              "       22071.55039699, 21217.59463986, 19987.08228266, 23641.31343723,\n",
              "       20807.61815578, 18862.65862702, 23270.97449   , 20555.60891414,\n",
              "       18794.26444579, 21580.16152104, 22017.53453795, 20355.28391173,\n",
              "       20788.57659396, 19228.52863628, 18301.51545828, 20437.08490689,\n",
              "       20268.23677198, 20436.30770029, 22114.29676026, 18882.86599875,\n",
              "       23210.15807317, 24719.49329988, 20694.14599146, 17688.68805032,\n",
              "       22603.15971474, 19230.47165279, 21094.21309133, 21291.04066402,\n",
              "       20789.54810221, 24063.33662369, 21069.53678163, 19960.85155974,\n",
              "       22764.62438691, 19936.36955169, 20824.13379613, 20497.51272042,\n",
              "       21381.58523349, 20882.0356882 , 22699.92193705, 22331.72030798,\n",
              "       20964.80819162, 24466.12394668, 23438.07391005, 21162.80157421,\n",
              "       18931.63571321, 18883.25460205, 21224.39519765, 24773.70346057,\n",
              "       21143.95431405, 21319.0201018 , 21769.60563099, 22590.91871071,\n",
              "       20780.41592461, 20482.94009658, 20626.52901684, 21428.80053474,\n",
              "       22552.25268212, 20882.61859315, 21200.10749125, 21156.00101642,\n",
              "       21209.43397051, 22763.0699737 , 20577.17639742, 23791.50861363,\n",
              "       22177.63909856, 20021.47367492, 20650.42811994, 22229.90624274,\n",
              "       20765.06609416, 19457.41598142, 20429.8957458 , 21058.85019081,\n",
              "       23492.28407074, 20231.31945825, 19246.98729314, 21270.63899064,\n",
              "       20520.44031527, 21151.92068175, 22554.00139698, 23160.2225488 ,\n",
              "       23122.33372681, 21985.0861622 , 22609.18306593, 20620.6999673 ,\n",
              "       20310.40023029, 19018.29424965, 23692.22046985, 19099.90094317,\n",
              "       20055.67076554, 22390.78800995, 20823.55089118, 20074.71232736,\n",
              "       18180.27122792, 20196.34516102, 21651.47022704, 22552.44698377,\n",
              "       20482.94009658, 20450.10311752, 19886.43402732, 24363.53267483,\n",
              "       24791.77351413, 20660.1432025 , 22179.77641672, 22010.1510752 ,\n",
              "       19919.85391133, 22894.02928662, 22463.26252586, 19656.38087227,\n",
              "       19849.71101524, 19604.69663305, 19739.9305823 , 23926.93686453,\n",
              "       22731.2045029 , 24480.11366557, 24178.16889957, 21543.04990566,\n",
              "       19567.77931931, 19650.35752108, 23945.3955214 , 24519.55690077,\n",
              "       24436.59009569, 20545.69952993, 20576.20488917, 22889.7546503 ,\n",
              "       21881.13477879, 20229.18214008, 20506.83919968, 19537.46826172,\n",
              "       19815.31962297, 21560.73135592, 20768.95212718, 21234.69318517,\n",
              "       19868.55827541, 24131.14789997, 20413.18580379, 19900.81234951,\n",
              "       21573.1666616 , 20017.9762452 , 20733.39492501, 21588.7107937 ,\n",
              "       20703.47247072, 19526.3930676 , 19511.04323716, 18836.81650741,\n",
              "       18830.01594961, 18807.47695807, 21348.16534948, 19593.03853397,\n",
              "       19917.52229152, 21050.49521981, 20796.54296166, 21393.63193587,\n",
              "       20955.87031566, 20649.84521498, 22921.42581945, 20687.73403697,\n",
              "       20742.72140427, 24597.66616456, 20013.50730722, 21032.23086459,\n",
              "       19999.32328668, 22936.19274494])"
            ]
          },
          "metadata": {},
          "execution_count": 28
        }
      ]
    },
    {
      "cell_type": "code",
      "source": [
        "print(len(y_pred))"
      ],
      "metadata": {
        "colab": {
          "base_uri": "https://localhost:8080/"
        },
        "id": "d5tc7MHadqkz",
        "outputId": "811d6d4b-d4f6-4d94-b243-8da81f559ecc"
      },
      "execution_count": null,
      "outputs": [
        {
          "output_type": "stream",
          "name": "stdout",
          "text": [
            "242\n"
          ]
        }
      ]
    },
    {
      "cell_type": "code",
      "execution_count": null,
      "metadata": {
        "colab": {
          "base_uri": "https://localhost:8080/",
          "height": 288
        },
        "id": "9vYxQE2YAAjw",
        "outputId": "34ae51d3-0792-40b4-cc09-75c4fa5a0bc9"
      },
      "outputs": [
        {
          "output_type": "display_data",
          "data": {
            "text/plain": [
              "<Figure size 432x288 with 1 Axes>"
            ],
            "image/png": "[encoded data removed]"
          },
          "metadata": {
            "needs_background": "light"
          }
        }
      ],
      "source": [
        "plt.scatter(X,y)                     \n",
        "y_new = regressor.coef_*X + regressor.intercept_            \n",
        "plt.plot(X,y_new, 'r',lw=3, label='regression line') \n",
        "                                                     \n",
        "plt.xlabel('Mileage', fontsize=20)      \n",
        "plt.ylabel('Price', fontsize=20)       \n",
        "plt.show()  # this shows Price vs Mileage is slightly negatively corelated and it has  negative-linear relationship."
      ]
    },
    {
      "cell_type": "code",
      "source": [],
      "metadata": {
        "id": "8QSZL4MaVNpC"
      },
      "execution_count": null,
      "outputs": []
    },
    {
      "cell_type": "code",
      "execution_count": null,
      "metadata": {
        "colab": {
          "base_uri": "https://localhost:8080/"
        },
        "id": "5ho7BFdljw4I",
        "outputId": "27eda42d-1081-4e11-dff0-7c8274406015"
      },
      "outputs": [
        {
          "output_type": "stream",
          "name": "stdout",
          "text": [
            "R_2 score value : 0.004916607226404968\n"
          ]
        }
      ],
      "source": [
        "from sklearn import metrics\n",
        "print(\"R_2 score value :\",metrics.r2_score(Y_test,y_pred))"
      ]
    },
    {
      "cell_type": "markdown",
      "source": [
        "For Mileage Vs Price:\n",
        "\n",
        "There is a negative corelation between Mileage vs Price, less than 0.8\n",
        "\n",
        "The R2 _score value for this Mileage Vs price Model is 0.004*100 = 4 % .\n",
        "\n",
        "This model is Negative Linear-Relationship.."
      ],
      "metadata": {
        "id": "3GcCfFtrj4bo"
      }
    },
    {
      "cell_type": "code",
      "source": [],
      "metadata": {
        "id": "4mPyqXGsS8Fb"
      },
      "execution_count": null,
      "outputs": []
    },
    {
      "cell_type": "code",
      "source": [
        "df.corr()"
      ],
      "metadata": {
        "colab": {
          "base_uri": "https://localhost:8080/",
          "height": 300
        },
        "id": "83Uct0x1nFfn",
        "outputId": "0e448d6f-4910-48bf-c743-0dd275218fdd"
      },
      "execution_count": null,
      "outputs": [
        {
          "output_type": "execute_result",
          "data": {
            "text/plain": [
              "             Price   Mileage  Cylinder     Liter     Doors    Cruise  \\\n",
              "Price     1.000000 -0.146283  0.569086  0.558146 -0.138750  0.430851   \n",
              "Mileage  -0.146283  1.000000 -0.028069 -0.016878 -0.015384  0.023516   \n",
              "Cylinder  0.569086 -0.028069  1.000000  0.957897  0.002206  0.354285   \n",
              "Liter     0.558146 -0.016878  0.957897  1.000000 -0.079259  0.377509   \n",
              "Doors    -0.138750 -0.015384  0.002206 -0.079259  1.000000 -0.047674   \n",
              "Cruise    0.430851  0.023516  0.354285  0.377509 -0.047674  1.000000   \n",
              "Sound    -0.124348 -0.025447 -0.089704 -0.065527 -0.062530 -0.091730   \n",
              "Leather   0.157197 -0.000876  0.075520  0.087332 -0.061969 -0.070573   \n",
              "\n",
              "             Sound   Leather  \n",
              "Price    -0.124348  0.157197  \n",
              "Mileage  -0.025447 -0.000876  \n",
              "Cylinder -0.089704  0.075520  \n",
              "Liter    -0.065527  0.087332  \n",
              "Doors    -0.062530 -0.061969  \n",
              "Cruise   -0.091730 -0.070573  \n",
              "Sound     1.000000  0.165444  \n",
              "Leather   0.165444  1.000000  "
            ],
            "text/html": [
              "\n",
              "  <div id=\"df-a3ebdc8a-68d6-4272-87b1-feae4c621577\">\n",
              "    <div class=\"colab-df-container\">\n",
              "      <div>\n",
              "<style scoped>\n",
              "    .dataframe tbody tr th:only-of-type {\n",
              "        vertical-align: middle;\n",
              "    }\n",
              "\n",
              "    .dataframe tbody tr th {\n",
              "        vertical-align: top;\n",
              "    }\n",
              "\n",
              "    .dataframe thead th {\n",
              "        text-align: right;\n",
              "    }\n",
              "</style>\n",
              "<table border=\"1\" class=\"dataframe\">\n",
              "  <thead>\n",
              "    <tr style=\"text-align: right;\">\n",
              "      <th></th>\n",
              "      <th>Price</th>\n",
              "      <th>Mileage</th>\n",
              "      <th>Cylinder</th>\n",
              "      <th>Liter</th>\n",
              "      <th>Doors</th>\n",
              "      <th>Cruise</th>\n",
              "      <th>Sound</th>\n",
              "      <th>Leather</th>\n",
              "    </tr>\n",
              "  </thead>\n",
              "  <tbody>\n",
              "    <tr>\n",
              "      <th>Price</th>\n",
              "      <td>1.000000</td>\n",
              "      <td>-0.146283</td>\n",
              "      <td>0.569086</td>\n",
              "      <td>0.558146</td>\n",
              "      <td>-0.138750</td>\n",
              "      <td>0.430851</td>\n",
              "      <td>-0.124348</td>\n",
              "      <td>0.157197</td>\n",
              "    </tr>\n",
              "    <tr>\n",
              "      <th>Mileage</th>\n",
              "      <td>-0.146283</td>\n",
              "      <td>1.000000</td>\n",
              "      <td>-0.028069</td>\n",
              "      <td>-0.016878</td>\n",
              "      <td>-0.015384</td>\n",
              "      <td>0.023516</td>\n",
              "      <td>-0.025447</td>\n",
              "      <td>-0.000876</td>\n",
              "    </tr>\n",
              "    <tr>\n",
              "      <th>Cylinder</th>\n",
              "      <td>0.569086</td>\n",
              "      <td>-0.028069</td>\n",
              "      <td>1.000000</td>\n",
              "      <td>0.957897</td>\n",
              "      <td>0.002206</td>\n",
              "      <td>0.354285</td>\n",
              "      <td>-0.089704</td>\n",
              "      <td>0.075520</td>\n",
              "    </tr>\n",
              "    <tr>\n",
              "      <th>Liter</th>\n",
              "      <td>0.558146</td>\n",
              "      <td>-0.016878</td>\n",
              "      <td>0.957897</td>\n",
              "      <td>1.000000</td>\n",
              "      <td>-0.079259</td>\n",
              "      <td>0.377509</td>\n",
              "      <td>-0.065527</td>\n",
              "      <td>0.087332</td>\n",
              "    </tr>\n",
              "    <tr>\n",
              "      <th>Doors</th>\n",
              "      <td>-0.138750</td>\n",
              "      <td>-0.015384</td>\n",
              "      <td>0.002206</td>\n",
              "      <td>-0.079259</td>\n",
              "      <td>1.000000</td>\n",
              "      <td>-0.047674</td>\n",
              "      <td>-0.062530</td>\n",
              "      <td>-0.061969</td>\n",
              "    </tr>\n",
              "    <tr>\n",
              "      <th>Cruise</th>\n",
              "      <td>0.430851</td>\n",
              "      <td>0.023516</td>\n",
              "      <td>0.354285</td>\n",
              "      <td>0.377509</td>\n",
              "      <td>-0.047674</td>\n",
              "      <td>1.000000</td>\n",
              "      <td>-0.091730</td>\n",
              "      <td>-0.070573</td>\n",
              "    </tr>\n",
              "    <tr>\n",
              "      <th>Sound</th>\n",
              "      <td>-0.124348</td>\n",
              "      <td>-0.025447</td>\n",
              "      <td>-0.089704</td>\n",
              "      <td>-0.065527</td>\n",
              "      <td>-0.062530</td>\n",
              "      <td>-0.091730</td>\n",
              "      <td>1.000000</td>\n",
              "      <td>0.165444</td>\n",
              "    </tr>\n",
              "    <tr>\n",
              "      <th>Leather</th>\n",
              "      <td>0.157197</td>\n",
              "      <td>-0.000876</td>\n",
              "      <td>0.075520</td>\n",
              "      <td>0.087332</td>\n",
              "      <td>-0.061969</td>\n",
              "      <td>-0.070573</td>\n",
              "      <td>0.165444</td>\n",
              "      <td>1.000000</td>\n",
              "    </tr>\n",
              "  </tbody>\n",
              "</table>\n",
              "</div>\n",
              "      <button class=\"colab-df-convert\" onclick=\"convertToInteractive('df-a3ebdc8a-68d6-4272-87b1-feae4c621577')\"\n",
              "              title=\"Convert this dataframe to an interactive table.\"\n",
              "              style=\"display:none;\">\n",
              "        \n",
              "  <svg xmlns=\"http://www.w3.org/2000/svg\" height=\"24px\"viewBox=\"0 0 24 24\"\n",
              "       width=\"24px\">\n",
              "    <path d=\"M0 0h24v24H0V0z\" fill=\"none\"/>\n",
              "    <path d=\"M18.56 5.44l.94 2.06.94-2.06 2.06-.94-2.06-.94-.94-2.06-.94 2.06-2.06.94zm-11 1L8.5 8.5l.94-2.06 2.06-.94-2.06-.94L8.5 2.5l-.94 2.06-2.06.94zm10 10l.94 2.06.94-2.06 2.06-.94-2.06-.94-.94-2.06-.94 2.06-2.06.94z\"/><path d=\"M17.41 7.96l-1.37-1.37c-.4-.4-.92-.59-1.43-.59-.52 0-1.04.2-1.43.59L10.3 9.45l-7.72 7.72c-.78.78-.78 2.05 0 2.83L4 21.41c.39.39.9.59 1.41.59.51 0 1.02-.2 1.41-.59l7.78-7.78 2.81-2.81c.8-.78.8-2.07 0-2.86zM5.41 20L4 18.59l7.72-7.72 1.47 1.35L5.41 20z\"/>\n",
              "  </svg>\n",
              "      </button>\n",
              "      \n",
              "  <style>\n",
              "    .colab-df-container {\n",
              "      display:flex;\n",
              "      flex-wrap:wrap;\n",
              "      gap: 12px;\n",
              "    }\n",
              "\n",
              "    .colab-df-convert {\n",
              "      background-color: #E8F0FE;\n",
              "      border: none;\n",
              "      border-radius: 50%;\n",
              "      cursor: pointer;\n",
              "      display: none;\n",
              "      fill: #1967D2;\n",
              "      height: 32px;\n",
              "      padding: 0 0 0 0;\n",
              "      width: 32px;\n",
              "    }\n",
              "\n",
              "    .colab-df-convert:hover {\n",
              "      background-color: #E2EBFA;\n",
              "      box-shadow: 0px 1px 2px rgba(60, 64, 67, 0.3), 0px 1px 3px 1px rgba(60, 64, 67, 0.15);\n",
              "      fill: #174EA6;\n",
              "    }\n",
              "\n",
              "    [theme=dark] .colab-df-convert {\n",
              "      background-color: #3B4455;\n",
              "      fill: #D2E3FC;\n",
              "    }\n",
              "\n",
              "    [theme=dark] .colab-df-convert:hover {\n",
              "      background-color: #434B5C;\n",
              "      box-shadow: 0px 1px 3px 1px rgba(0, 0, 0, 0.15);\n",
              "      filter: drop-shadow(0px 1px 2px rgba(0, 0, 0, 0.3));\n",
              "      fill: #FFFFFF;\n",
              "    }\n",
              "  </style>\n",
              "\n",
              "      <script>\n",
              "        const buttonEl =\n",
              "          document.querySelector('#df-a3ebdc8a-68d6-4272-87b1-feae4c621577 button.colab-df-convert');\n",
              "        buttonEl.style.display =\n",
              "          google.colab.kernel.accessAllowed ? 'block' : 'none';\n",
              "\n",
              "        async function convertToInteractive(key) {\n",
              "          const element = document.querySelector('#df-a3ebdc8a-68d6-4272-87b1-feae4c621577');\n",
              "          const dataTable =\n",
              "            await google.colab.kernel.invokeFunction('convertToInteractive',\n",
              "                                                     [key], {});\n",
              "          if (!dataTable) return;\n",
              "\n",
              "          const docLinkHtml = 'Like what you see? Visit the ' +\n",
              "            '<a target=\"_blank\" href=https://colab.research.google.com/notebooks/data_table.ipynb>data table notebook</a>'\n",
              "            + ' to learn more about interactive tables.';\n",
              "          element.innerHTML = '';\n",
              "          dataTable['output_type'] = 'display_data';\n",
              "          await google.colab.output.renderOutput(dataTable, element);\n",
              "          const docLink = document.createElement('div');\n",
              "          docLink.innerHTML = docLinkHtml;\n",
              "          element.appendChild(docLink);\n",
              "        }\n",
              "      </script>\n",
              "    </div>\n",
              "  </div>\n",
              "  "
            ]
          },
          "metadata": {},
          "execution_count": 32
        }
      ]
    },
    {
      "cell_type": "code",
      "source": [
        "X_1 = df[['Mileage', 'Cylinder', 'Liter', 'Doors', 'Cruise', 'Sound', 'Leather']].values \n",
        "Y_1 = df['Price'].values "
      ],
      "metadata": {
        "id": "36PMwRkkkf0X"
      },
      "execution_count": null,
      "outputs": []
    },
    {
      "cell_type": "code",
      "source": [
        "from sklearn.model_selection import train_test_split\n",
        "X_train, X_test, y_train, y_test = train_test_split(X_1, Y_1, test_size=0.2, random_state=2)"
      ],
      "metadata": {
        "id": "C7dMQtockf4N"
      },
      "execution_count": null,
      "outputs": []
    },
    {
      "cell_type": "code",
      "source": [
        "from sklearn.preprocessing import StandardScaler \n",
        "scaler = StandardScaler() \n",
        "scaler.fit(X_train,y_train) \n",
        "X_train_scaled = scaler.transform(X_train) \n",
        "X_test_scaled = scaler.transform(X_test) "
      ],
      "metadata": {
        "id": "4OfKjpK0kf8j"
      },
      "execution_count": null,
      "outputs": []
    },
    {
      "cell_type": "code",
      "source": [
        "scaler.var_"
      ],
      "metadata": {
        "colab": {
          "base_uri": "https://localhost:8080/"
        },
        "id": "n8HhOLr9kgAN",
        "outputId": "641ff57d-343f-4307-fbdb-b628cbd4c907"
      },
      "execution_count": null,
      "outputs": [
        {
          "output_type": "execute_result",
          "data": {
            "text/plain": [
              "array([6.48754829e+07, 1.95342110e+00, 1.26893639e+00, 7.31795215e-01,\n",
              "       1.89237367e-01, 2.21526718e-01, 2.00193978e-01])"
            ]
          },
          "metadata": {},
          "execution_count": 36
        }
      ]
    },
    {
      "cell_type": "code",
      "source": [
        "from sklearn.linear_model import LinearRegression\n",
        "regressor = LinearRegression()\n",
        "regressor.fit(X_train_scaled, y_train)"
      ],
      "metadata": {
        "colab": {
          "base_uri": "https://localhost:8080/"
        },
        "id": "Shf_WSH3lZuJ",
        "outputId": "350fa708-86cc-4c14-bdea-00a2c7db5039"
      },
      "execution_count": null,
      "outputs": [
        {
          "output_type": "execute_result",
          "data": {
            "text/plain": [
              "LinearRegression()"
            ]
          },
          "metadata": {},
          "execution_count": 37
        }
      ]
    },
    {
      "cell_type": "code",
      "source": [
        "coeff_df = pd.DataFrame(regressor.coef_,['Mileage', 'Cylinder', 'Liter', 'Doors', 'Cruise', 'Sound', 'Leather'], columns=['Coefficient'])\n",
        "\n",
        "coeff_df"
      ],
      "metadata": {
        "colab": {
          "base_uri": "https://localhost:8080/",
          "height": 269
        },
        "id": "bKl5dKUplZxr",
        "outputId": "46d79de0-b3eb-4e92-e206-187b98b5b8ae"
      },
      "execution_count": null,
      "outputs": [
        {
          "output_type": "execute_result",
          "data": {
            "text/plain": [
              "          Coefficient\n",
              "Mileage  -1416.068194\n",
              "Cylinder  6098.887632\n",
              "Liter    -1689.147809\n",
              "Doors    -1501.492000\n",
              "Cruise    2849.720811\n",
              "Sound     -761.114644\n",
              "Leather   1392.133161"
            ],
            "text/html": [
              "\n",
              "  <div id=\"df-6d7b12ec-8d2d-4e9d-be45-4cfe41ff90c7\">\n",
              "    <div class=\"colab-df-container\">\n",
              "      <div>\n",
              "<style scoped>\n",
              "    .dataframe tbody tr th:only-of-type {\n",
              "        vertical-align: middle;\n",
              "    }\n",
              "\n",
              "    .dataframe tbody tr th {\n",
              "        vertical-align: top;\n",
              "    }\n",
              "\n",
              "    .dataframe thead th {\n",
              "        text-align: right;\n",
              "    }\n",
              "</style>\n",
              "<table border=\"1\" class=\"dataframe\">\n",
              "  <thead>\n",
              "    <tr style=\"text-align: right;\">\n",
              "      <th></th>\n",
              "      <th>Coefficient</th>\n",
              "    </tr>\n",
              "  </thead>\n",
              "  <tbody>\n",
              "    <tr>\n",
              "      <th>Mileage</th>\n",
              "      <td>-1416.068194</td>\n",
              "    </tr>\n",
              "    <tr>\n",
              "      <th>Cylinder</th>\n",
              "      <td>6098.887632</td>\n",
              "    </tr>\n",
              "    <tr>\n",
              "      <th>Liter</th>\n",
              "      <td>-1689.147809</td>\n",
              "    </tr>\n",
              "    <tr>\n",
              "      <th>Doors</th>\n",
              "      <td>-1501.492000</td>\n",
              "    </tr>\n",
              "    <tr>\n",
              "      <th>Cruise</th>\n",
              "      <td>2849.720811</td>\n",
              "    </tr>\n",
              "    <tr>\n",
              "      <th>Sound</th>\n",
              "      <td>-761.114644</td>\n",
              "    </tr>\n",
              "    <tr>\n",
              "      <th>Leather</th>\n",
              "      <td>1392.133161</td>\n",
              "    </tr>\n",
              "  </tbody>\n",
              "</table>\n",
              "</div>\n",
              "      <button class=\"colab-df-convert\" onclick=\"convertToInteractive('df-6d7b12ec-8d2d-4e9d-be45-4cfe41ff90c7')\"\n",
              "              title=\"Convert this dataframe to an interactive table.\"\n",
              "              style=\"display:none;\">\n",
              "        \n",
              "  <svg xmlns=\"http://www.w3.org/2000/svg\" height=\"24px\"viewBox=\"0 0 24 24\"\n",
              "       width=\"24px\">\n",
              "    <path d=\"M0 0h24v24H0V0z\" fill=\"none\"/>\n",
              "    <path d=\"M18.56 5.44l.94 2.06.94-2.06 2.06-.94-2.06-.94-.94-2.06-.94 2.06-2.06.94zm-11 1L8.5 8.5l.94-2.06 2.06-.94-2.06-.94L8.5 2.5l-.94 2.06-2.06.94zm10 10l.94 2.06.94-2.06 2.06-.94-2.06-.94-.94-2.06-.94 2.06-2.06.94z\"/><path d=\"M17.41 7.96l-1.37-1.37c-.4-.4-.92-.59-1.43-.59-.52 0-1.04.2-1.43.59L10.3 9.45l-7.72 7.72c-.78.78-.78 2.05 0 2.83L4 21.41c.39.39.9.59 1.41.59.51 0 1.02-.2 1.41-.59l7.78-7.78 2.81-2.81c.8-.78.8-2.07 0-2.86zM5.41 20L4 18.59l7.72-7.72 1.47 1.35L5.41 20z\"/>\n",
              "  </svg>\n",
              "      </button>\n",
              "      \n",
              "  <style>\n",
              "    .colab-df-container {\n",
              "      display:flex;\n",
              "      flex-wrap:wrap;\n",
              "      gap: 12px;\n",
              "    }\n",
              "\n",
              "    .colab-df-convert {\n",
              "      background-color: #E8F0FE;\n",
              "      border: none;\n",
              "      border-radius: 50%;\n",
              "      cursor: pointer;\n",
              "      display: none;\n",
              "      fill: #1967D2;\n",
              "      height: 32px;\n",
              "      padding: 0 0 0 0;\n",
              "      width: 32px;\n",
              "    }\n",
              "\n",
              "    .colab-df-convert:hover {\n",
              "      background-color: #E2EBFA;\n",
              "      box-shadow: 0px 1px 2px rgba(60, 64, 67, 0.3), 0px 1px 3px 1px rgba(60, 64, 67, 0.15);\n",
              "      fill: #174EA6;\n",
              "    }\n",
              "\n",
              "    [theme=dark] .colab-df-convert {\n",
              "      background-color: #3B4455;\n",
              "      fill: #D2E3FC;\n",
              "    }\n",
              "\n",
              "    [theme=dark] .colab-df-convert:hover {\n",
              "      background-color: #434B5C;\n",
              "      box-shadow: 0px 1px 3px 1px rgba(0, 0, 0, 0.15);\n",
              "      filter: drop-shadow(0px 1px 2px rgba(0, 0, 0, 0.3));\n",
              "      fill: #FFFFFF;\n",
              "    }\n",
              "  </style>\n",
              "\n",
              "      <script>\n",
              "        const buttonEl =\n",
              "          document.querySelector('#df-6d7b12ec-8d2d-4e9d-be45-4cfe41ff90c7 button.colab-df-convert');\n",
              "        buttonEl.style.display =\n",
              "          google.colab.kernel.accessAllowed ? 'block' : 'none';\n",
              "\n",
              "        async function convertToInteractive(key) {\n",
              "          const element = document.querySelector('#df-6d7b12ec-8d2d-4e9d-be45-4cfe41ff90c7');\n",
              "          const dataTable =\n",
              "            await google.colab.kernel.invokeFunction('convertToInteractive',\n",
              "                                                     [key], {});\n",
              "          if (!dataTable) return;\n",
              "\n",
              "          const docLinkHtml = 'Like what you see? Visit the ' +\n",
              "            '<a target=\"_blank\" href=https://colab.research.google.com/notebooks/data_table.ipynb>data table notebook</a>'\n",
              "            + ' to learn more about interactive tables.';\n",
              "          element.innerHTML = '';\n",
              "          dataTable['output_type'] = 'display_data';\n",
              "          await google.colab.output.renderOutput(dataTable, element);\n",
              "          const docLink = document.createElement('div');\n",
              "          docLink.innerHTML = docLinkHtml;\n",
              "          element.appendChild(docLink);\n",
              "        }\n",
              "      </script>\n",
              "    </div>\n",
              "  </div>\n",
              "  "
            ]
          },
          "metadata": {},
          "execution_count": 38
        }
      ]
    },
    {
      "cell_type": "code",
      "source": [
        "\n",
        "y_pred = regressor.predict(X_test_scaled)\n",
        "y_pred"
      ],
      "metadata": {
        "colab": {
          "base_uri": "https://localhost:8080/"
        },
        "id": "1EZEXIQrlqrc",
        "outputId": "3db1b9d9-3d90-477c-a0e0-ca3e682ca8a1"
      },
      "execution_count": null,
      "outputs": [
        {
          "output_type": "execute_result",
          "data": {
            "text/plain": [
              "array([12403.3409458 , 24395.10694718, 23760.17238413, 11660.28515387,\n",
              "       32869.62719077, 14191.96339621, 24681.28532471, 25272.60550812,\n",
              "       21159.06168252, 14708.05258316, 23288.80892751, 18184.27006596,\n",
              "       25581.85550637, 19651.05295092, 19556.6407912 , 18496.30281609,\n",
              "       13916.80802343, 17955.59750196, 17699.0341392 , 35202.80327195,\n",
              "       19064.44122103, 18803.79471316, 11302.50863622, 19776.17048408,\n",
              "       25420.81437072, 31070.24686694, 26340.21613157, 21482.28901795,\n",
              "       23050.646421  , 34701.56862441, 35216.51739397, 17867.80135155,\n",
              "       22492.11021237, 20787.13580983, 10881.19883123, 24946.95931239,\n",
              "       27260.32817694, 24816.2232195 , 27734.47459596,  8790.18497112,\n",
              "       24513.07964891, 19948.52460403, 22049.6377602 , 34706.72219508,\n",
              "       25286.71511291, 10447.01952685, 11911.51781305, 18250.00745382,\n",
              "       24091.60565013, 22879.79754283, 18986.58946421, 20734.74439455,\n",
              "       23569.12299763, 18953.15434888, 27007.62971007, 14458.97643465,\n",
              "       24230.40405908, 23535.92701089, 20590.17133224, 21767.42281996,\n",
              "       18336.68184219, 26595.53079256, 17583.14506116, 27317.40713867,\n",
              "       23667.46005999, 31809.06243731, 17409.07022127, 19426.89504997,\n",
              "       15243.49421562, 19504.36804105, 10436.57410902, 26441.89152499,\n",
              "       31481.43142874, 24419.5165403 , 20203.3712936 , 14572.76811264,\n",
              "       25224.6093458 , 20009.33837578, 17651.01945374, 26441.21536507,\n",
              "       19553.73949148, 21946.01896528, 32683.44427539, 32824.26818022,\n",
              "       34638.10117167, 12938.07309434, 23762.50164599, 14987.49908682,\n",
              "       28322.20782175, 35212.30955583, 25102.90288741, 25923.42430636,\n",
              "       14208.0318111 ,  7183.19626348, 20745.6320844 , 22436.87988304,\n",
              "       26356.05251251, 10662.73854212, 10486.39899943, 21694.84345109,\n",
              "       20329.26911654, 28738.26190195, 33639.84800272, 11966.19475987,\n",
              "       11021.56699375, 22267.3998617 , 25154.5215003 , 23334.29988564,\n",
              "       24531.52000263, 18686.20795397, 16725.08994584, 14510.51879324,\n",
              "       13588.74634251, 26718.11630154, 25190.28051625, 17938.75185622,\n",
              "       21373.22308331, 25302.49322825, 24480.91588744, 18180.05062312,\n",
              "       22154.00140254, 12568.42571418, 20802.94618299, 11973.15547656,\n",
              "        9524.19022148, 17217.10839467, 25171.99626394, 26036.67628265,\n",
              "       13532.31129451, 19609.69171663, 19251.75889482, 22284.18604849,\n",
              "       33245.15853644, 18204.79306056, 17082.96527434, 14329.08275106,\n",
              "       18829.66807779, 27598.17589774, 10562.20342051, 24967.54469267,\n",
              "       17651.829743  , 19171.3347058 , 16342.64055266, 12826.51590077,\n",
              "       23158.31395713, 36574.70470299, 17750.37069377, 30833.9227627 ,\n",
              "       17252.28303801, 14776.70784998, 20543.8176649 , 21669.52068782,\n",
              "       19732.68617866, 23988.76926836, 32077.25191997, 21197.30081604,\n",
              "       18825.62444507, 19881.65655512, 21706.09529866, 19214.3259532 ,\n",
              "       30191.68840021])"
            ]
          },
          "metadata": {},
          "execution_count": 39
        }
      ]
    },
    {
      "cell_type": "code",
      "source": [
        "len(y_pred)"
      ],
      "metadata": {
        "colab": {
          "base_uri": "https://localhost:8080/"
        },
        "id": "DLNl9baCl3zC",
        "outputId": "a741ce39-e8b1-47c0-eeba-79d7c248b3ce"
      },
      "execution_count": null,
      "outputs": [
        {
          "output_type": "execute_result",
          "data": {
            "text/plain": [
              "161"
            ]
          },
          "metadata": {},
          "execution_count": 40
        }
      ]
    },
    {
      "cell_type": "code",
      "source": [
        "regressor.intercept_  # C - value"
      ],
      "metadata": {
        "colab": {
          "base_uri": "https://localhost:8080/"
        },
        "id": "z-x9LqIvmDxd",
        "outputId": "a598aa0c-09fa-47cd-9fd6-aec2bd896cec"
      },
      "execution_count": null,
      "outputs": [
        {
          "output_type": "execute_result",
          "data": {
            "text/plain": [
              "21526.41105814825"
            ]
          },
          "metadata": {},
          "execution_count": 41
        }
      ]
    },
    {
      "cell_type": "code",
      "source": [
        "regressor.coef_  # slope - Value"
      ],
      "metadata": {
        "colab": {
          "base_uri": "https://localhost:8080/"
        },
        "id": "cqS-SD7EmD2y",
        "outputId": "a70fca9e-1773-42a4-e834-c0271b155b6d"
      },
      "execution_count": null,
      "outputs": [
        {
          "output_type": "execute_result",
          "data": {
            "text/plain": [
              "array([-1416.0681935 ,  6098.88763224, -1689.14780872, -1501.4919999 ,\n",
              "        2849.72081073,  -761.11464358,  1392.13316056])"
            ]
          },
          "metadata": {},
          "execution_count": 42
        }
      ]
    },
    {
      "cell_type": "code",
      "source": [
        "# Linear Regressor Equation \n",
        "m=regressor.coef_\n",
        "c=regressor.intercept_\n",
        "y=regressor.predict([[8221,7,5.1,4,1,2,2]]) #y=mx+c\n",
        "print('y=',y)"
      ],
      "metadata": {
        "colab": {
          "base_uri": "https://localhost:8080/"
        },
        "id": "B-wQ7wjdl7zy",
        "outputId": "ce81e300-d02f-411e-fa6e-8511ef0ed243"
      },
      "execution_count": null,
      "outputs": [
        {
          "output_type": "stream",
          "name": "stdout",
          "text": [
            "y= [-11587786.85829144]\n"
          ]
        }
      ]
    },
    {
      "cell_type": "code",
      "source": [
        "df.groupby(\"Cylinder\")[\"Price\"].mean().plot(kind=\"bar\")\n",
        "plt.xlabel(\"cylinder\")\n",
        "plt.ylabel(\"Price\")\n",
        "plt.show()"
      ],
      "metadata": {
        "colab": {
          "base_uri": "https://localhost:8080/",
          "height": 276
        },
        "id": "qGoEgB4pn3tp",
        "outputId": "b40e7e4d-7178-4989-a137-912c22ed2d1b"
      },
      "execution_count": null,
      "outputs": [
        {
          "output_type": "display_data",
          "data": {
            "text/plain": [
              "<Figure size 432x288 with 1 Axes>"
            ],
            "image/png": "[encoded data removed]"
          },
          "metadata": {
            "needs_background": "light"
          }
        }
      ]
    },
    {
      "cell_type": "code",
      "source": [
        "df.groupby(\"Sound\")[\"Price\"].mean().plot(kind=\"bar\")\n",
        "plt.xlabel(\"Sound\")\n",
        "plt.ylabel(\"Price\")\n",
        "plt.show()"
      ],
      "metadata": {
        "colab": {
          "base_uri": "https://localhost:8080/",
          "height": 276
        },
        "id": "8c6pMiwBqQ5k",
        "outputId": "94ed2386-c1dd-47da-c6cd-8c7cacf392c9"
      },
      "execution_count": null,
      "outputs": [
        {
          "output_type": "display_data",
          "data": {
            "text/plain": [
              "<Figure size 432x288 with 1 Axes>"
            ],
            "image/png": "[encoded data removed]"
          },
          "metadata": {
            "needs_background": "light"
          }
        }
      ]
    },
    {
      "cell_type": "code",
      "source": [
        "df.groupby(\"Leather\")[\"Price\"].mean().plot()\n",
        "plt.xlabel(\"Leather\")\n",
        "plt.ylabel(\"Price\")\n",
        "plt.show()"
      ],
      "metadata": {
        "colab": {
          "base_uri": "https://localhost:8080/",
          "height": 279
        },
        "id": "if8TtNAmqkJA",
        "outputId": "c42d8a6e-80da-4f3c-cb30-8d8e9a8cb607"
      },
      "execution_count": null,
      "outputs": [
        {
          "output_type": "display_data",
          "data": {
            "text/plain": [
              "<Figure size 432x288 with 1 Axes>"
            ],
            "image/png": "[encoded data removed]"
          },
          "metadata": {
            "needs_background": "light"
          }
        }
      ]
    },
    {
      "cell_type": "code",
      "source": [
        "df.groupby(\"Cruise\")['Price'].mean().plot(kind=\"bar\")\n",
        "plt.xlabel(\"Cruise\")\n",
        "plt.ylabel(\"Price\")\n",
        "plt.show()"
      ],
      "metadata": {
        "colab": {
          "base_uri": "https://localhost:8080/",
          "height": 276
        },
        "id": "q2iWLfW5pa0_",
        "outputId": "2d7ce07c-80fe-475b-9e86-84208edcb9b7"
      },
      "execution_count": null,
      "outputs": [
        {
          "output_type": "display_data",
          "data": {
            "text/plain": [
              "<Figure size 432x288 with 1 Axes>"
            ],
            "image/png": "[encoded data removed]"
          },
          "metadata": {
            "needs_background": "light"
          }
        }
      ]
    },
    {
      "cell_type": "code",
      "source": [
        "from sklearn import metrics\n",
        "print('R2- SCORE:', metrics.r2_score(y_test,y_pred))"
      ],
      "metadata": {
        "colab": {
          "base_uri": "https://localhost:8080/"
        },
        "id": "VR6Uzng5m5_6",
        "outputId": "aee2544e-c7b9-4199-8a87-cbb601313329"
      },
      "execution_count": null,
      "outputs": [
        {
          "output_type": "stream",
          "name": "stdout",
          "text": [
            "R2- SCORE: 0.4113470342532586\n"
          ]
        }
      ]
    },
    {
      "cell_type": "markdown",
      "source": [
        "Model Two:\n",
        "\n",
        "No Feature in this model has corelation greater than 0.8\n",
        "\n",
        "This model shows R2 Score value of 41 % .\n",
        "\n",
        "Finnaly thismodel is not good fit because no feature has corealtion has greater than 0.8 and this model R2 score value is also low.\n",
        "\n",
        "In this model Cylinder and Cruise are the factors for the best price prediction.\n"
      ],
      "metadata": {
        "id": "LFgpSVNynPVe"
      }
    },
    {
      "cell_type": "code",
      "source": [
        "from sklearn.feature_selection import SequentialFeatureSelector\n",
        "estimator = LinearRegression()\n",
        "sfs = SequentialFeatureSelector(estimator, n_features_to_select=2)\n",
        "sfs.fit(X_train_scaled, y_train)\n",
        "print(list(zip(['Mileage', 'Cylinder', 'Liter', 'Doors', 'Cruise', 'Sound', 'Leather'],sfs.get_support())))"
      ],
      "metadata": {
        "colab": {
          "base_uri": "https://localhost:8080/"
        },
        "id": "AbY50EhjnNeN",
        "outputId": "2a97ed76-1294-433a-e797-19b848b50448"
      },
      "execution_count": null,
      "outputs": [
        {
          "output_type": "stream",
          "name": "stdout",
          "text": [
            "[('Mileage', False), ('Cylinder', True), ('Liter', False), ('Doors', False), ('Cruise', True), ('Sound', False), ('Leather', False)]\n"
          ]
        }
      ]
    },
    {
      "cell_type": "code",
      "source": [],
      "metadata": {
        "id": "0r-9KAbQV_J3"
      },
      "execution_count": null,
      "outputs": []
    },
    {
      "cell_type": "markdown",
      "source": [
        "# **Task** - **Hard** **Mode**"
      ],
      "metadata": {
        "id": "i088PfOxbCyr"
      }
    },
    {
      "cell_type": "code",
      "source": [
        "df=pd.get_dummies(df,columns=[\"Make\",\"Model\",\"Trim\",\"Type\"])\n",
        "df.head()"
      ],
      "metadata": {
        "colab": {
          "base_uri": "https://localhost:8080/",
          "height": 334
        },
        "id": "ZPYafPDPV_0Z",
        "outputId": "efc1db2b-1d55-4232-e486-c6de7b45a01e"
      },
      "execution_count": null,
      "outputs": [
        {
          "output_type": "execute_result",
          "data": {
            "text/plain": [
              "          Price  Mileage  Cylinder  Liter  Doors  Cruise  Sound  Leather  \\\n",
              "0  17314.103129     8221         6    3.1      4       1      1        1   \n",
              "1  17542.036083     9135         6    3.1      4       1      1        0   \n",
              "2  16218.847862    13196         6    3.1      4       1      1        0   \n",
              "3  16336.913140    16342         6    3.1      4       1      0        0   \n",
              "4  16339.170324    19832         6    3.1      4       1      0        1   \n",
              "\n",
              "   Make_Buick  Make_Cadillac  ...  Trim_SVM Hatchback 4D  Trim_SVM Sedan 4D  \\\n",
              "0           1              0  ...                      0                  0   \n",
              "1           1              0  ...                      0                  0   \n",
              "2           1              0  ...                      0                  0   \n",
              "3           1              0  ...                      0                  0   \n",
              "4           1              0  ...                      0                  0   \n",
              "\n",
              "   Trim_Sedan 4D  Trim_Special Ed Ultra 4D  Trim_Sportwagon 4D  \\\n",
              "0              1                         0                   0   \n",
              "1              1                         0                   0   \n",
              "2              1                         0                   0   \n",
              "3              1                         0                   0   \n",
              "4              1                         0                   0   \n",
              "\n",
              "   Type_Convertible  Type_Coupe  Type_Hatchback  Type_Sedan  Type_Wagon  \n",
              "0                 0           0               0           1           0  \n",
              "1                 0           0               0           1           0  \n",
              "2                 0           0               0           1           0  \n",
              "3                 0           0               0           1           0  \n",
              "4                 0           0               0           1           0  \n",
              "\n",
              "[5 rows x 98 columns]"
            ],
            "text/html": [
              "\n",
              "  <div id=\"df-9e605eb4-cf6a-413a-bf0b-14c7d7f3fdb5\">\n",
              "    <div class=\"colab-df-container\">\n",
              "      <div>\n",
              "<style scoped>\n",
              "    .dataframe tbody tr th:only-of-type {\n",
              "        vertical-align: middle;\n",
              "    }\n",
              "\n",
              "    .dataframe tbody tr th {\n",
              "        vertical-align: top;\n",
              "    }\n",
              "\n",
              "    .dataframe thead th {\n",
              "        text-align: right;\n",
              "    }\n",
              "</style>\n",
              "<table border=\"1\" class=\"dataframe\">\n",
              "  <thead>\n",
              "    <tr style=\"text-align: right;\">\n",
              "      <th></th>\n",
              "      <th>Price</th>\n",
              "      <th>Mileage</th>\n",
              "      <th>Cylinder</th>\n",
              "      <th>Liter</th>\n",
              "      <th>Doors</th>\n",
              "      <th>Cruise</th>\n",
              "      <th>Sound</th>\n",
              "      <th>Leather</th>\n",
              "      <th>Make_Buick</th>\n",
              "      <th>Make_Cadillac</th>\n",
              "      <th>...</th>\n",
              "      <th>Trim_SVM Hatchback 4D</th>\n",
              "      <th>Trim_SVM Sedan 4D</th>\n",
              "      <th>Trim_Sedan 4D</th>\n",
              "      <th>Trim_Special Ed Ultra 4D</th>\n",
              "      <th>Trim_Sportwagon 4D</th>\n",
              "      <th>Type_Convertible</th>\n",
              "      <th>Type_Coupe</th>\n",
              "      <th>Type_Hatchback</th>\n",
              "      <th>Type_Sedan</th>\n",
              "      <th>Type_Wagon</th>\n",
              "    </tr>\n",
              "  </thead>\n",
              "  <tbody>\n",
              "    <tr>\n",
              "      <th>0</th>\n",
              "      <td>17314.103129</td>\n",
              "      <td>8221</td>\n",
              "      <td>6</td>\n",
              "      <td>3.1</td>\n",
              "      <td>4</td>\n",
              "      <td>1</td>\n",
              "      <td>1</td>\n",
              "      <td>1</td>\n",
              "      <td>1</td>\n",
              "      <td>0</td>\n",
              "      <td>...</td>\n",
              "      <td>0</td>\n",
              "      <td>0</td>\n",
              "      <td>1</td>\n",
              "      <td>0</td>\n",
              "      <td>0</td>\n",
              "      <td>0</td>\n",
              "      <td>0</td>\n",
              "      <td>0</td>\n",
              "      <td>1</td>\n",
              "      <td>0</td>\n",
              "    </tr>\n",
              "    <tr>\n",
              "      <th>1</th>\n",
              "      <td>17542.036083</td>\n",
              "      <td>9135</td>\n",
              "      <td>6</td>\n",
              "      <td>3.1</td>\n",
              "      <td>4</td>\n",
              "      <td>1</td>\n",
              "      <td>1</td>\n",
              "      <td>0</td>\n",
              "      <td>1</td>\n",
              "      <td>0</td>\n",
              "      <td>...</td>\n",
              "      <td>0</td>\n",
              "      <td>0</td>\n",
              "      <td>1</td>\n",
              "      <td>0</td>\n",
              "      <td>0</td>\n",
              "      <td>0</td>\n",
              "      <td>0</td>\n",
              "      <td>0</td>\n",
              "      <td>1</td>\n",
              "      <td>0</td>\n",
              "    </tr>\n",
              "    <tr>\n",
              "      <th>2</th>\n",
              "      <td>16218.847862</td>\n",
              "      <td>13196</td>\n",
              "      <td>6</td>\n",
              "      <td>3.1</td>\n",
              "      <td>4</td>\n",
              "      <td>1</td>\n",
              "      <td>1</td>\n",
              "      <td>0</td>\n",
              "      <td>1</td>\n",
              "      <td>0</td>\n",
              "      <td>...</td>\n",
              "      <td>0</td>\n",
              "      <td>0</td>\n",
              "      <td>1</td>\n",
              "      <td>0</td>\n",
              "      <td>0</td>\n",
              "      <td>0</td>\n",
              "      <td>0</td>\n",
              "      <td>0</td>\n",
              "      <td>1</td>\n",
              "      <td>0</td>\n",
              "    </tr>\n",
              "    <tr>\n",
              "      <th>3</th>\n",
              "      <td>16336.913140</td>\n",
              "      <td>16342</td>\n",
              "      <td>6</td>\n",
              "      <td>3.1</td>\n",
              "      <td>4</td>\n",
              "      <td>1</td>\n",
              "      <td>0</td>\n",
              "      <td>0</td>\n",
              "      <td>1</td>\n",
              "      <td>0</td>\n",
              "      <td>...</td>\n",
              "      <td>0</td>\n",
              "      <td>0</td>\n",
              "      <td>1</td>\n",
              "      <td>0</td>\n",
              "      <td>0</td>\n",
              "      <td>0</td>\n",
              "      <td>0</td>\n",
              "      <td>0</td>\n",
              "      <td>1</td>\n",
              "      <td>0</td>\n",
              "    </tr>\n",
              "    <tr>\n",
              "      <th>4</th>\n",
              "      <td>16339.170324</td>\n",
              "      <td>19832</td>\n",
              "      <td>6</td>\n",
              "      <td>3.1</td>\n",
              "      <td>4</td>\n",
              "      <td>1</td>\n",
              "      <td>0</td>\n",
              "      <td>1</td>\n",
              "      <td>1</td>\n",
              "      <td>0</td>\n",
              "      <td>...</td>\n",
              "      <td>0</td>\n",
              "      <td>0</td>\n",
              "      <td>1</td>\n",
              "      <td>0</td>\n",
              "      <td>0</td>\n",
              "      <td>0</td>\n",
              "      <td>0</td>\n",
              "      <td>0</td>\n",
              "      <td>1</td>\n",
              "      <td>0</td>\n",
              "    </tr>\n",
              "  </tbody>\n",
              "</table>\n",
              "<p>5 rows × 98 columns</p>\n",
              "</div>\n",
              "      <button class=\"colab-df-convert\" onclick=\"convertToInteractive('df-9e605eb4-cf6a-413a-bf0b-14c7d7f3fdb5')\"\n",
              "              title=\"Convert this dataframe to an interactive table.\"\n",
              "              style=\"display:none;\">\n",
              "        \n",
              "  <svg xmlns=\"http://www.w3.org/2000/svg\" height=\"24px\"viewBox=\"0 0 24 24\"\n",
              "       width=\"24px\">\n",
              "    <path d=\"M0 0h24v24H0V0z\" fill=\"none\"/>\n",
              "    <path d=\"M18.56 5.44l.94 2.06.94-2.06 2.06-.94-2.06-.94-.94-2.06-.94 2.06-2.06.94zm-11 1L8.5 8.5l.94-2.06 2.06-.94-2.06-.94L8.5 2.5l-.94 2.06-2.06.94zm10 10l.94 2.06.94-2.06 2.06-.94-2.06-.94-.94-2.06-.94 2.06-2.06.94z\"/><path d=\"M17.41 7.96l-1.37-1.37c-.4-.4-.92-.59-1.43-.59-.52 0-1.04.2-1.43.59L10.3 9.45l-7.72 7.72c-.78.78-.78 2.05 0 2.83L4 21.41c.39.39.9.59 1.41.59.51 0 1.02-.2 1.41-.59l7.78-7.78 2.81-2.81c.8-.78.8-2.07 0-2.86zM5.41 20L4 18.59l7.72-7.72 1.47 1.35L5.41 20z\"/>\n",
              "  </svg>\n",
              "      </button>\n",
              "      \n",
              "  <style>\n",
              "    .colab-df-container {\n",
              "      display:flex;\n",
              "      flex-wrap:wrap;\n",
              "      gap: 12px;\n",
              "    }\n",
              "\n",
              "    .colab-df-convert {\n",
              "      background-color: #E8F0FE;\n",
              "      border: none;\n",
              "      border-radius: 50%;\n",
              "      cursor: pointer;\n",
              "      display: none;\n",
              "      fill: #1967D2;\n",
              "      height: 32px;\n",
              "      padding: 0 0 0 0;\n",
              "      width: 32px;\n",
              "    }\n",
              "\n",
              "    .colab-df-convert:hover {\n",
              "      background-color: #E2EBFA;\n",
              "      box-shadow: 0px 1px 2px rgba(60, 64, 67, 0.3), 0px 1px 3px 1px rgba(60, 64, 67, 0.15);\n",
              "      fill: #174EA6;\n",
              "    }\n",
              "\n",
              "    [theme=dark] .colab-df-convert {\n",
              "      background-color: #3B4455;\n",
              "      fill: #D2E3FC;\n",
              "    }\n",
              "\n",
              "    [theme=dark] .colab-df-convert:hover {\n",
              "      background-color: #434B5C;\n",
              "      box-shadow: 0px 1px 3px 1px rgba(0, 0, 0, 0.15);\n",
              "      filter: drop-shadow(0px 1px 2px rgba(0, 0, 0, 0.3));\n",
              "      fill: #FFFFFF;\n",
              "    }\n",
              "  </style>\n",
              "\n",
              "      <script>\n",
              "        const buttonEl =\n",
              "          document.querySelector('#df-9e605eb4-cf6a-413a-bf0b-14c7d7f3fdb5 button.colab-df-convert');\n",
              "        buttonEl.style.display =\n",
              "          google.colab.kernel.accessAllowed ? 'block' : 'none';\n",
              "\n",
              "        async function convertToInteractive(key) {\n",
              "          const element = document.querySelector('#df-9e605eb4-cf6a-413a-bf0b-14c7d7f3fdb5');\n",
              "          const dataTable =\n",
              "            await google.colab.kernel.invokeFunction('convertToInteractive',\n",
              "                                                     [key], {});\n",
              "          if (!dataTable) return;\n",
              "\n",
              "          const docLinkHtml = 'Like what you see? Visit the ' +\n",
              "            '<a target=\"_blank\" href=https://colab.research.google.com/notebooks/data_table.ipynb>data table notebook</a>'\n",
              "            + ' to learn more about interactive tables.';\n",
              "          element.innerHTML = '';\n",
              "          dataTable['output_type'] = 'display_data';\n",
              "          await google.colab.output.renderOutput(dataTable, element);\n",
              "          const docLink = document.createElement('div');\n",
              "          docLink.innerHTML = docLinkHtml;\n",
              "          element.appendChild(docLink);\n",
              "        }\n",
              "      </script>\n",
              "    </div>\n",
              "  </div>\n",
              "  "
            ]
          },
          "metadata": {},
          "execution_count": 73
        }
      ]
    },
    {
      "cell_type": "code",
      "source": [
        "df.columns"
      ],
      "metadata": {
        "colab": {
          "base_uri": "https://localhost:8080/"
        },
        "id": "YI2mFm4IVxiP",
        "outputId": "5b088b91-ec47-48cf-b33f-d86cc73de447"
      },
      "execution_count": null,
      "outputs": [
        {
          "output_type": "execute_result",
          "data": {
            "text/plain": [
              "Index(['Price', 'Mileage', 'Cylinder', 'Liter', 'Doors', 'Cruise', 'Sound',\n",
              "       'Leather', 'Make_Buick', 'Make_Cadillac', 'Make_Chevrolet',\n",
              "       'Make_Pontiac', 'Make_SAAB', 'Make_Saturn', 'Model_9-2X AWD',\n",
              "       'Model_9_3', 'Model_9_3 HO', 'Model_9_5', 'Model_9_5 HO', 'Model_AVEO',\n",
              "       'Model_Bonneville', 'Model_CST-V', 'Model_CTS', 'Model_Cavalier',\n",
              "       'Model_Century', 'Model_Classic', 'Model_Cobalt', 'Model_Corvette',\n",
              "       'Model_Deville', 'Model_G6', 'Model_GTO', 'Model_Grand Am',\n",
              "       'Model_Grand Prix', 'Model_Impala', 'Model_Ion', 'Model_L Series',\n",
              "       'Model_Lacrosse', 'Model_Lesabre', 'Model_Malibu', 'Model_Monte Carlo',\n",
              "       'Model_Park Avenue', 'Model_STS-V6', 'Model_STS-V8', 'Model_Sunfire',\n",
              "       'Model_Vibe', 'Model_XLR-V8', 'Trim_AWD Sportwagon 4D',\n",
              "       'Trim_Aero Conv 2D', 'Trim_Aero Sedan 4D', 'Trim_Aero Wagon 4D',\n",
              "       'Trim_Arc Conv 2D', 'Trim_Arc Sedan 4D', 'Trim_Arc Wagon 4D',\n",
              "       'Trim_CX Sedan 4D', 'Trim_CXL Sedan 4D', 'Trim_CXS Sedan 4D',\n",
              "       'Trim_Conv 2D', 'Trim_Coupe 2D', 'Trim_Custom Sedan 4D',\n",
              "       'Trim_DHS Sedan 4D', 'Trim_DTS Sedan 4D', 'Trim_GT Coupe 2D',\n",
              "       'Trim_GT Sedan 4D', 'Trim_GT Sportwagon', 'Trim_GTP Sedan 4D',\n",
              "       'Trim_GXP Sedan 4D', 'Trim_Hardtop Conv 2D', 'Trim_L300 Sedan 4D',\n",
              "       'Trim_LS Coupe 2D', 'Trim_LS Hatchback 4D', 'Trim_LS MAXX Hback 4D',\n",
              "       'Trim_LS Sedan 4D', 'Trim_LS Sport Coupe 2D', 'Trim_LS Sport Sedan 4D',\n",
              "       'Trim_LT Coupe 2D', 'Trim_LT Hatchback 4D', 'Trim_LT MAXX Hback 4D',\n",
              "       'Trim_LT Sedan 4D', 'Trim_Limited Sedan 4D', 'Trim_Linear Conv 2D',\n",
              "       'Trim_Linear Sedan 4D', 'Trim_Linear Wagon 4D', 'Trim_MAXX Hback 4D',\n",
              "       'Trim_Quad Coupe 2D', 'Trim_SE Sedan 4D', 'Trim_SLE Sedan 4D',\n",
              "       'Trim_SS Coupe 2D', 'Trim_SS Sedan 4D', 'Trim_SVM Hatchback 4D',\n",
              "       'Trim_SVM Sedan 4D', 'Trim_Sedan 4D', 'Trim_Special Ed Ultra 4D',\n",
              "       'Trim_Sportwagon 4D', 'Type_Convertible', 'Type_Coupe',\n",
              "       'Type_Hatchback', 'Type_Sedan', 'Type_Wagon'],\n",
              "      dtype='object')"
            ]
          },
          "metadata": {},
          "execution_count": 74
        }
      ]
    },
    {
      "cell_type": "code",
      "source": [
        "X=df[['Make_Buick', 'Make_Cadillac', 'Make_Chevrolet',\n",
        "       'Make_Pontiac', 'Make_SAAB', 'Make_Saturn', 'Model_9-2X AWD',\n",
        "       'Model_9_3', 'Model_9_3 HO', 'Model_9_5', 'Model_9_5 HO', 'Model_AVEO',\n",
        "       'Model_Bonneville', 'Model_CST-V', 'Model_CTS', 'Model_Cavalier',\n",
        "       'Model_Century', 'Model_Classic', 'Model_Cobalt', 'Model_Corvette',\n",
        "       'Model_Deville', 'Model_G6', 'Model_GTO', 'Model_Grand Am',\n",
        "       'Model_Grand Prix', 'Model_Impala', 'Model_Ion', 'Model_L Series',\n",
        "       'Model_Lacrosse', 'Model_Lesabre', 'Model_Malibu', 'Model_Monte Carlo',\n",
        "       'Model_Park Avenue', 'Model_STS-V6', 'Model_STS-V8', 'Model_Sunfire',\n",
        "       'Model_Vibe', 'Model_XLR-V8','Type_Convertible', 'Type_Coupe',\n",
        "       'Type_Hatchback', 'Type_Sedan', 'Type_Wagon']].values\n",
        "y=df[\"Price\"].values"
      ],
      "metadata": {
        "id": "HoF5_VbNVx0I"
      },
      "execution_count": null,
      "outputs": []
    },
    {
      "cell_type": "code",
      "source": [
        "from sklearn.model_selection import train_test_split\n",
        "X_train, X_test, y_train, y_test = train_test_split(X, y, test_size=0.2, random_state=2)\n"
      ],
      "metadata": {
        "id": "b2VpCiVYVx4E"
      },
      "execution_count": null,
      "outputs": []
    },
    {
      "cell_type": "code",
      "source": [
        "#Scallig..\n",
        "from sklearn.preprocessing import StandardScaler \n",
        "scaler = StandardScaler() \n",
        "scaler.fit(X_train,y_train) \n",
        "X_train_scaled = scaler.transform(X_train) \n",
        "X_test_scaled = scaler.transform(X_test) \n"
      ],
      "metadata": {
        "id": "7L3Ji2ANVx8_"
      },
      "execution_count": null,
      "outputs": []
    },
    {
      "cell_type": "code",
      "source": [
        "scaler.var_"
      ],
      "metadata": {
        "colab": {
          "base_uri": "https://localhost:8080/"
        },
        "id": "7VTXa7frVyCE",
        "outputId": "da6ca85e-b03c-4d11-c18e-bc80593a2cca"
      },
      "execution_count": null,
      "outputs": [
        {
          "output_type": "execute_result",
          "data": {
            "text/plain": [
              "array([0.08962653, 0.0921081 , 0.24085196, 0.1458608 , 0.12149503,\n",
              "       0.06907744, 0.00310075, 0.02573957, 0.05008115, 0.03449035,\n",
              "       0.02278395, 0.06775201, 0.03449035, 0.01228688, 0.01380098,\n",
              "       0.0717138 , 0.01228688, 0.01076795, 0.05833851, 0.02721013,\n",
              "       0.03736858, 0.01980897, 0.01531023, 0.02129888, 0.03159277,\n",
              "       0.03736858, 0.05833851, 0.01228688, 0.03304398, 0.03013673,\n",
              "       0.07039804, 0.03593188, 0.02129888, 0.01380098, 0.00924419,\n",
              "       0.00924419, 0.04022745, 0.01380098, 0.06240189, 0.14384362,\n",
              "       0.07039804, 0.2389799 , 0.0717138 ])"
            ]
          },
          "metadata": {},
          "execution_count": 82
        }
      ]
    },
    {
      "cell_type": "code",
      "source": [
        "from sklearn.linear_model import LinearRegression\n",
        "regressor = LinearRegression()\n",
        "regressor.fit(X_train_scaled, y_train)"
      ],
      "metadata": {
        "colab": {
          "base_uri": "https://localhost:8080/"
        },
        "id": "XLGr0prnXc-O",
        "outputId": "1bee4e32-d00a-4818-e6d1-7b15f17a3e21"
      },
      "execution_count": null,
      "outputs": [
        {
          "output_type": "execute_result",
          "data": {
            "text/plain": [
              "LinearRegression()"
            ]
          },
          "metadata": {},
          "execution_count": 83
        }
      ]
    },
    {
      "cell_type": "code",
      "source": [
        "regressor.coef_"
      ],
      "metadata": {
        "colab": {
          "base_uri": "https://localhost:8080/"
        },
        "id": "JD39hYCUXdC_",
        "outputId": "fb99cd9a-2a63-4605-a0ec-f264252b676c"
      },
      "execution_count": null,
      "outputs": [
        {
          "output_type": "execute_result",
          "data": {
            "text/plain": [
              "array([-3.49984137e+16,  4.30247827e+16,  4.96594559e+16, -1.09240195e+17,\n",
              "       -3.68753874e+16,  5.18853081e+15, -2.66781081e+13, -7.68639402e+13,\n",
              "       -1.07215882e+14, -8.89755700e+13, -7.23163449e+13, -5.40001313e+16,\n",
              "        3.33840550e+16, -2.74940125e+16, -2.91388329e+16, -5.55565292e+16,\n",
              "        1.17851640e+15, -2.15278340e+16, -5.01085008e+16, -3.42214982e+16,\n",
              "       -4.79480016e+16,  2.53000439e+16,  2.22423760e+16,  2.62342507e+16,\n",
              "        3.19509786e+16, -4.01039360e+16, -3.04365068e+16, -1.39681218e+16,\n",
              "        1.93268428e+15,  1.84570715e+15, -5.50445112e+16, -3.93254501e+16,\n",
              "        1.55164767e+15, -2.91388329e+16, -2.38479806e+16,  1.72832203e+16,\n",
              "        3.60538429e+16, -2.91388329e+16, -4.86291130e+15, -7.38316827e+15,\n",
              "       -5.16508838e+15, -9.51651976e+15, -5.21313346e+15])"
            ]
          },
          "metadata": {},
          "execution_count": 84
        }
      ]
    },
    {
      "cell_type": "code",
      "source": [
        "coeff_df = pd.DataFrame(regressor.coef_,['Make_Buick', 'Make_Cadillac', 'Make_Chevrolet',\n",
        "       'Make_Pontiac', 'Make_SAAB', 'Make_Saturn', 'Model_9-2X AWD',\n",
        "       'Model_9_3', 'Model_9_3 HO', 'Model_9_5', 'Model_9_5 HO', 'Model_AVEO',\n",
        "       'Model_Bonneville', 'Model_CST-V', 'Model_CTS', 'Model_Cavalier',\n",
        "       'Model_Century', 'Model_Classic', 'Model_Cobalt', 'Model_Corvette',\n",
        "       'Model_Deville', 'Model_G6', 'Model_GTO', 'Model_Grand Am',\n",
        "       'Model_Grand Prix', 'Model_Impala', 'Model_Ion', 'Model_L Series',\n",
        "       'Model_Lacrosse', 'Model_Lesabre', 'Model_Malibu', 'Model_Monte Carlo',\n",
        "       'Model_Park Avenue', 'Model_STS-V6', 'Model_STS-V8', 'Model_Sunfire',\n",
        "       'Model_Vibe', 'Model_XLR-V8','Type_Convertible', 'Type_Coupe',\n",
        "       'Type_Hatchback', 'Type_Sedan', 'Type_Wagon'], columns=['Coefficient'])\n",
        "\n",
        "coeff_df"
      ],
      "metadata": {
        "colab": {
          "base_uri": "https://localhost:8080/",
          "height": 1000
        },
        "id": "xqm383iwXdIx",
        "outputId": "11adbfa2-957d-4145-cba4-288ab82ca97c"
      },
      "execution_count": null,
      "outputs": [
        {
          "output_type": "execute_result",
          "data": {
            "text/plain": [
              "                    Coefficient\n",
              "Make_Buick        -3.499841e+16\n",
              "Make_Cadillac      4.302478e+16\n",
              "Make_Chevrolet     4.965946e+16\n",
              "Make_Pontiac      -1.092402e+17\n",
              "Make_SAAB         -3.687539e+16\n",
              "Make_Saturn        5.188531e+15\n",
              "Model_9-2X AWD    -2.667811e+13\n",
              "Model_9_3         -7.686394e+13\n",
              "Model_9_3 HO      -1.072159e+14\n",
              "Model_9_5         -8.897557e+13\n",
              "Model_9_5 HO      -7.231634e+13\n",
              "Model_AVEO        -5.400013e+16\n",
              "Model_Bonneville   3.338405e+16\n",
              "Model_CST-V       -2.749401e+16\n",
              "Model_CTS         -2.913883e+16\n",
              "Model_Cavalier    -5.555653e+16\n",
              "Model_Century      1.178516e+15\n",
              "Model_Classic     -2.152783e+16\n",
              "Model_Cobalt      -5.010850e+16\n",
              "Model_Corvette    -3.422150e+16\n",
              "Model_Deville     -4.794800e+16\n",
              "Model_G6           2.530004e+16\n",
              "Model_GTO          2.224238e+16\n",
              "Model_Grand Am     2.623425e+16\n",
              "Model_Grand Prix   3.195098e+16\n",
              "Model_Impala      -4.010394e+16\n",
              "Model_Ion         -3.043651e+16\n",
              "Model_L Series    -1.396812e+16\n",
              "Model_Lacrosse     1.932684e+15\n",
              "Model_Lesabre      1.845707e+15\n",
              "Model_Malibu      -5.504451e+16\n",
              "Model_Monte Carlo -3.932545e+16\n",
              "Model_Park Avenue  1.551648e+15\n",
              "Model_STS-V6      -2.913883e+16\n",
              "Model_STS-V8      -2.384798e+16\n",
              "Model_Sunfire      1.728322e+16\n",
              "Model_Vibe         3.605384e+16\n",
              "Model_XLR-V8      -2.913883e+16\n",
              "Type_Convertible  -4.862911e+15\n",
              "Type_Coupe        -7.383168e+15\n",
              "Type_Hatchback    -5.165088e+15\n",
              "Type_Sedan        -9.516520e+15\n",
              "Type_Wagon        -5.213133e+15"
            ],
            "text/html": [
              "\n",
              "  <div id=\"df-f82a737a-c80b-48f2-a294-8970c8dd6419\">\n",
              "    <div class=\"colab-df-container\">\n",
              "      <div>\n",
              "<style scoped>\n",
              "    .dataframe tbody tr th:only-of-type {\n",
              "        vertical-align: middle;\n",
              "    }\n",
              "\n",
              "    .dataframe tbody tr th {\n",
              "        vertical-align: top;\n",
              "    }\n",
              "\n",
              "    .dataframe thead th {\n",
              "        text-align: right;\n",
              "    }\n",
              "</style>\n",
              "<table border=\"1\" class=\"dataframe\">\n",
              "  <thead>\n",
              "    <tr style=\"text-align: right;\">\n",
              "      <th></th>\n",
              "      <th>Coefficient</th>\n",
              "    </tr>\n",
              "  </thead>\n",
              "  <tbody>\n",
              "    <tr>\n",
              "      <th>Make_Buick</th>\n",
              "      <td>-3.499841e+16</td>\n",
              "    </tr>\n",
              "    <tr>\n",
              "      <th>Make_Cadillac</th>\n",
              "      <td>4.302478e+16</td>\n",
              "    </tr>\n",
              "    <tr>\n",
              "      <th>Make_Chevrolet</th>\n",
              "      <td>4.965946e+16</td>\n",
              "    </tr>\n",
              "    <tr>\n",
              "      <th>Make_Pontiac</th>\n",
              "      <td>-1.092402e+17</td>\n",
              "    </tr>\n",
              "    <tr>\n",
              "      <th>Make_SAAB</th>\n",
              "      <td>-3.687539e+16</td>\n",
              "    </tr>\n",
              "    <tr>\n",
              "      <th>Make_Saturn</th>\n",
              "      <td>5.188531e+15</td>\n",
              "    </tr>\n",
              "    <tr>\n",
              "      <th>Model_9-2X AWD</th>\n",
              "      <td>-2.667811e+13</td>\n",
              "    </tr>\n",
              "    <tr>\n",
              "      <th>Model_9_3</th>\n",
              "      <td>-7.686394e+13</td>\n",
              "    </tr>\n",
              "    <tr>\n",
              "      <th>Model_9_3 HO</th>\n",
              "      <td>-1.072159e+14</td>\n",
              "    </tr>\n",
              "    <tr>\n",
              "      <th>Model_9_5</th>\n",
              "      <td>-8.897557e+13</td>\n",
              "    </tr>\n",
              "    <tr>\n",
              "      <th>Model_9_5 HO</th>\n",
              "      <td>-7.231634e+13</td>\n",
              "    </tr>\n",
              "    <tr>\n",
              "      <th>Model_AVEO</th>\n",
              "      <td>-5.400013e+16</td>\n",
              "    </tr>\n",
              "    <tr>\n",
              "      <th>Model_Bonneville</th>\n",
              "      <td>3.338405e+16</td>\n",
              "    </tr>\n",
              "    <tr>\n",
              "      <th>Model_CST-V</th>\n",
              "      <td>-2.749401e+16</td>\n",
              "    </tr>\n",
              "    <tr>\n",
              "      <th>Model_CTS</th>\n",
              "      <td>-2.913883e+16</td>\n",
              "    </tr>\n",
              "    <tr>\n",
              "      <th>Model_Cavalier</th>\n",
              "      <td>-5.555653e+16</td>\n",
              "    </tr>\n",
              "    <tr>\n",
              "      <th>Model_Century</th>\n",
              "      <td>1.178516e+15</td>\n",
              "    </tr>\n",
              "    <tr>\n",
              "      <th>Model_Classic</th>\n",
              "      <td>-2.152783e+16</td>\n",
              "    </tr>\n",
              "    <tr>\n",
              "      <th>Model_Cobalt</th>\n",
              "      <td>-5.010850e+16</td>\n",
              "    </tr>\n",
              "    <tr>\n",
              "      <th>Model_Corvette</th>\n",
              "      <td>-3.422150e+16</td>\n",
              "    </tr>\n",
              "    <tr>\n",
              "      <th>Model_Deville</th>\n",
              "      <td>-4.794800e+16</td>\n",
              "    </tr>\n",
              "    <tr>\n",
              "      <th>Model_G6</th>\n",
              "      <td>2.530004e+16</td>\n",
              "    </tr>\n",
              "    <tr>\n",
              "      <th>Model_GTO</th>\n",
              "      <td>2.224238e+16</td>\n",
              "    </tr>\n",
              "    <tr>\n",
              "      <th>Model_Grand Am</th>\n",
              "      <td>2.623425e+16</td>\n",
              "    </tr>\n",
              "    <tr>\n",
              "      <th>Model_Grand Prix</th>\n",
              "      <td>3.195098e+16</td>\n",
              "    </tr>\n",
              "    <tr>\n",
              "      <th>Model_Impala</th>\n",
              "      <td>-4.010394e+16</td>\n",
              "    </tr>\n",
              "    <tr>\n",
              "      <th>Model_Ion</th>\n",
              "      <td>-3.043651e+16</td>\n",
              "    </tr>\n",
              "    <tr>\n",
              "      <th>Model_L Series</th>\n",
              "      <td>-1.396812e+16</td>\n",
              "    </tr>\n",
              "    <tr>\n",
              "      <th>Model_Lacrosse</th>\n",
              "      <td>1.932684e+15</td>\n",
              "    </tr>\n",
              "    <tr>\n",
              "      <th>Model_Lesabre</th>\n",
              "      <td>1.845707e+15</td>\n",
              "    </tr>\n",
              "    <tr>\n",
              "      <th>Model_Malibu</th>\n",
              "      <td>-5.504451e+16</td>\n",
              "    </tr>\n",
              "    <tr>\n",
              "      <th>Model_Monte Carlo</th>\n",
              "      <td>-3.932545e+16</td>\n",
              "    </tr>\n",
              "    <tr>\n",
              "      <th>Model_Park Avenue</th>\n",
              "      <td>1.551648e+15</td>\n",
              "    </tr>\n",
              "    <tr>\n",
              "      <th>Model_STS-V6</th>\n",
              "      <td>-2.913883e+16</td>\n",
              "    </tr>\n",
              "    <tr>\n",
              "      <th>Model_STS-V8</th>\n",
              "      <td>-2.384798e+16</td>\n",
              "    </tr>\n",
              "    <tr>\n",
              "      <th>Model_Sunfire</th>\n",
              "      <td>1.728322e+16</td>\n",
              "    </tr>\n",
              "    <tr>\n",
              "      <th>Model_Vibe</th>\n",
              "      <td>3.605384e+16</td>\n",
              "    </tr>\n",
              "    <tr>\n",
              "      <th>Model_XLR-V8</th>\n",
              "      <td>-2.913883e+16</td>\n",
              "    </tr>\n",
              "    <tr>\n",
              "      <th>Type_Convertible</th>\n",
              "      <td>-4.862911e+15</td>\n",
              "    </tr>\n",
              "    <tr>\n",
              "      <th>Type_Coupe</th>\n",
              "      <td>-7.383168e+15</td>\n",
              "    </tr>\n",
              "    <tr>\n",
              "      <th>Type_Hatchback</th>\n",
              "      <td>-5.165088e+15</td>\n",
              "    </tr>\n",
              "    <tr>\n",
              "      <th>Type_Sedan</th>\n",
              "      <td>-9.516520e+15</td>\n",
              "    </tr>\n",
              "    <tr>\n",
              "      <th>Type_Wagon</th>\n",
              "      <td>-5.213133e+15</td>\n",
              "    </tr>\n",
              "  </tbody>\n",
              "</table>\n",
              "</div>\n",
              "      <button class=\"colab-df-convert\" onclick=\"convertToInteractive('df-f82a737a-c80b-48f2-a294-8970c8dd6419')\"\n",
              "              title=\"Convert this dataframe to an interactive table.\"\n",
              "              style=\"display:none;\">\n",
              "        \n",
              "  <svg xmlns=\"http://www.w3.org/2000/svg\" height=\"24px\"viewBox=\"0 0 24 24\"\n",
              "       width=\"24px\">\n",
              "    <path d=\"M0 0h24v24H0V0z\" fill=\"none\"/>\n",
              "    <path d=\"M18.56 5.44l.94 2.06.94-2.06 2.06-.94-2.06-.94-.94-2.06-.94 2.06-2.06.94zm-11 1L8.5 8.5l.94-2.06 2.06-.94-2.06-.94L8.5 2.5l-.94 2.06-2.06.94zm10 10l.94 2.06.94-2.06 2.06-.94-2.06-.94-.94-2.06-.94 2.06-2.06.94z\"/><path d=\"M17.41 7.96l-1.37-1.37c-.4-.4-.92-.59-1.43-.59-.52 0-1.04.2-1.43.59L10.3 9.45l-7.72 7.72c-.78.78-.78 2.05 0 2.83L4 21.41c.39.39.9.59 1.41.59.51 0 1.02-.2 1.41-.59l7.78-7.78 2.81-2.81c.8-.78.8-2.07 0-2.86zM5.41 20L4 18.59l7.72-7.72 1.47 1.35L5.41 20z\"/>\n",
              "  </svg>\n",
              "      </button>\n",
              "      \n",
              "  <style>\n",
              "    .colab-df-container {\n",
              "      display:flex;\n",
              "      flex-wrap:wrap;\n",
              "      gap: 12px;\n",
              "    }\n",
              "\n",
              "    .colab-df-convert {\n",
              "      background-color: #E8F0FE;\n",
              "      border: none;\n",
              "      border-radius: 50%;\n",
              "      cursor: pointer;\n",
              "      display: none;\n",
              "      fill: #1967D2;\n",
              "      height: 32px;\n",
              "      padding: 0 0 0 0;\n",
              "      width: 32px;\n",
              "    }\n",
              "\n",
              "    .colab-df-convert:hover {\n",
              "      background-color: #E2EBFA;\n",
              "      box-shadow: 0px 1px 2px rgba(60, 64, 67, 0.3), 0px 1px 3px 1px rgba(60, 64, 67, 0.15);\n",
              "      fill: #174EA6;\n",
              "    }\n",
              "\n",
              "    [theme=dark] .colab-df-convert {\n",
              "      background-color: #3B4455;\n",
              "      fill: #D2E3FC;\n",
              "    }\n",
              "\n",
              "    [theme=dark] .colab-df-convert:hover {\n",
              "      background-color: #434B5C;\n",
              "      box-shadow: 0px 1px 3px 1px rgba(0, 0, 0, 0.15);\n",
              "      filter: drop-shadow(0px 1px 2px rgba(0, 0, 0, 0.3));\n",
              "      fill: #FFFFFF;\n",
              "    }\n",
              "  </style>\n",
              "\n",
              "      <script>\n",
              "        const buttonEl =\n",
              "          document.querySelector('#df-f82a737a-c80b-48f2-a294-8970c8dd6419 button.colab-df-convert');\n",
              "        buttonEl.style.display =\n",
              "          google.colab.kernel.accessAllowed ? 'block' : 'none';\n",
              "\n",
              "        async function convertToInteractive(key) {\n",
              "          const element = document.querySelector('#df-f82a737a-c80b-48f2-a294-8970c8dd6419');\n",
              "          const dataTable =\n",
              "            await google.colab.kernel.invokeFunction('convertToInteractive',\n",
              "                                                     [key], {});\n",
              "          if (!dataTable) return;\n",
              "\n",
              "          const docLinkHtml = 'Like what you see? Visit the ' +\n",
              "            '<a target=\"_blank\" href=https://colab.research.google.com/notebooks/data_table.ipynb>data table notebook</a>'\n",
              "            + ' to learn more about interactive tables.';\n",
              "          element.innerHTML = '';\n",
              "          dataTable['output_type'] = 'display_data';\n",
              "          await google.colab.output.renderOutput(dataTable, element);\n",
              "          const docLink = document.createElement('div');\n",
              "          docLink.innerHTML = docLinkHtml;\n",
              "          element.appendChild(docLink);\n",
              "        }\n",
              "      </script>\n",
              "    </div>\n",
              "  </div>\n",
              "  "
            ]
          },
          "metadata": {},
          "execution_count": 85
        }
      ]
    },
    {
      "cell_type": "code",
      "source": [
        "\n",
        "y_pred = regressor.predict(X_test_scaled)\n",
        "y_pred"
      ],
      "metadata": {
        "colab": {
          "base_uri": "https://localhost:8080/"
        },
        "id": "dv7qhFJXXdNr",
        "outputId": "2b8a786f-8ada-472f-d672-b8f13c79be6b"
      },
      "execution_count": null,
      "outputs": [
        {
          "output_type": "execute_result",
          "data": {
            "text/plain": [
              "array([10779.49256445, 36470.49256445, 20590.49256445, 17022.49256445,\n",
              "       37246.49256445, 13092.49256445, 21256.49256445, 18590.49256445,\n",
              "       20590.49256445, 13726.49256445, 19414.49256445, 29922.49256445,\n",
              "       21918.49256445, 29922.49256445, 13736.49256445, 17467.49256445,\n",
              "       17022.49256445, 28984.49256445, 29454.49256445, 20862.49256445,\n",
              "       10779.49256445, 17467.49256445, 10302.49256445, 18590.49256445,\n",
              "       20862.49256445, 13760.49256445, 20030.49256445, 13092.49256445,\n",
              "       23038.49256445, 37246.49256445, 43998.49256445, 12904.49256445,\n",
              "       35880.49256445, 13736.49256445, 14136.49256445, 19414.49256445,\n",
              "       21256.49256445, 30110.49256445, 20862.49256445, 12510.49256445,\n",
              "       12904.49256445, 26990.49256445, 16334.49256445, 33656.49256445,\n",
              "       19414.49256445, 13342.49256445, 13726.49256445, 17022.49256445,\n",
              "       20030.49256445, 14306.49256445, 16466.49256445, 13736.49256445,\n",
              "       28984.49256445, 10779.49256445, 19414.49256445, 30034.49256445,\n",
              "       21918.49256445, 12904.49256445, 18590.49256445, 13760.49256445,\n",
              "       12510.49256445, 16990.49256445, 16990.49256445, 19414.49256445,\n",
              "       21918.49256445, 21256.49256445, 30034.49256445, 27458.49256445,\n",
              "       27458.49256445, 18590.49256445, 14136.49256445, 14136.49256445,\n",
              "       43998.49256445, 35880.49256445, 16466.49256445, 13092.49256445,\n",
              "       18590.49256445, 13726.49256445, 10779.49256445, 21918.49256445,\n",
              "       20590.49256445, 20862.49256445, 37246.49256445, 37246.49256445,\n",
              "       43998.49256445, 13368.49256445, 21256.49256445, 12510.49256445,\n",
              "       20030.49256445, 64898.49256445, 16990.49256445, 20590.49256445,\n",
              "       10302.49256445, 13726.49256445, 13342.49256445, 18590.49256445,\n",
              "       21256.49256445, 13342.49256445, 10302.49256445, 12904.49256445,\n",
              "       20590.49256445, 44054.49256445, 44054.49256445, 13342.49256445,\n",
              "       12510.49256445, 20590.49256445, 20590.49256445, 20030.49256445,\n",
              "       16990.49256445, 27458.49256445, 29934.49256445, 13368.49256445,\n",
              "       13342.49256445, 21918.49256445, 17467.49256445, 14136.49256445,\n",
              "       19414.49256445, 21918.49256445, 16334.49256445, 29454.49256445,\n",
              "       18590.49256445, 10779.49256445, 13368.49256445, 14136.49256445,\n",
              "       10779.49256445, 16990.49256445, 17467.49256445, 18590.49256445,\n",
              "       13342.49256445, 29934.49256445, 16990.49256445, 20030.49256445,\n",
              "       43998.49256445, 29934.49256445, 16990.49256445, 13368.49256445,\n",
              "       29922.49256445, 19414.49256445, 16466.49256445, 20590.49256445,\n",
              "       14136.49256445, 10779.49256445, 10302.49256445, 10302.49256445,\n",
              "       20862.49256445, 39208.49256445, 27458.49256445, 37246.49256445,\n",
              "       10302.49256445, 12904.49256445, 27458.49256445, 14306.49256445,\n",
              "       35880.49256445, 21256.49256445, 20862.49256445, 12904.49256445,\n",
              "       27458.49256445, 18590.49256445, 13092.49256445, 13342.49256445,\n",
              "       20862.49256445])"
            ]
          },
          "metadata": {},
          "execution_count": 86
        }
      ]
    },
    {
      "cell_type": "code",
      "source": [
        "df= pd.DataFrame({\"Actual\": y_test,\"Predicted\": y_pred})\n",
        "df.head()"
      ],
      "metadata": {
        "colab": {
          "base_uri": "https://localhost:8080/",
          "height": 206
        },
        "id": "-JKK6deJXdR6",
        "outputId": "799d75fa-1458-419e-fa2d-b5103943b1bc"
      },
      "execution_count": null,
      "outputs": [
        {
          "output_type": "execute_result",
          "data": {
            "text/plain": [
              "         Actual     Predicted\n",
              "0  11391.213718  10779.492564\n",
              "1  35895.499410  36470.492564\n",
              "2  22358.877678  20590.492564\n",
              "3  13436.000149  17022.492564\n",
              "4  35338.653690  37246.492564"
            ],
            "text/html": [
              "\n",
              "  <div id=\"df-d4668198-167c-4800-ab7f-42b976921b49\">\n",
              "    <div class=\"colab-df-container\">\n",
              "      <div>\n",
              "<style scoped>\n",
              "    .dataframe tbody tr th:only-of-type {\n",
              "        vertical-align: middle;\n",
              "    }\n",
              "\n",
              "    .dataframe tbody tr th {\n",
              "        vertical-align: top;\n",
              "    }\n",
              "\n",
              "    .dataframe thead th {\n",
              "        text-align: right;\n",
              "    }\n",
              "</style>\n",
              "<table border=\"1\" class=\"dataframe\">\n",
              "  <thead>\n",
              "    <tr style=\"text-align: right;\">\n",
              "      <th></th>\n",
              "      <th>Actual</th>\n",
              "      <th>Predicted</th>\n",
              "    </tr>\n",
              "  </thead>\n",
              "  <tbody>\n",
              "    <tr>\n",
              "      <th>0</th>\n",
              "      <td>11391.213718</td>\n",
              "      <td>10779.492564</td>\n",
              "    </tr>\n",
              "    <tr>\n",
              "      <th>1</th>\n",
              "      <td>35895.499410</td>\n",
              "      <td>36470.492564</td>\n",
              "    </tr>\n",
              "    <tr>\n",
              "      <th>2</th>\n",
              "      <td>22358.877678</td>\n",
              "      <td>20590.492564</td>\n",
              "    </tr>\n",
              "    <tr>\n",
              "      <th>3</th>\n",
              "      <td>13436.000149</td>\n",
              "      <td>17022.492564</td>\n",
              "    </tr>\n",
              "    <tr>\n",
              "      <th>4</th>\n",
              "      <td>35338.653690</td>\n",
              "      <td>37246.492564</td>\n",
              "    </tr>\n",
              "  </tbody>\n",
              "</table>\n",
              "</div>\n",
              "      <button class=\"colab-df-convert\" onclick=\"convertToInteractive('df-d4668198-167c-4800-ab7f-42b976921b49')\"\n",
              "              title=\"Convert this dataframe to an interactive table.\"\n",
              "              style=\"display:none;\">\n",
              "        \n",
              "  <svg xmlns=\"http://www.w3.org/2000/svg\" height=\"24px\"viewBox=\"0 0 24 24\"\n",
              "       width=\"24px\">\n",
              "    <path d=\"M0 0h24v24H0V0z\" fill=\"none\"/>\n",
              "    <path d=\"M18.56 5.44l.94 2.06.94-2.06 2.06-.94-2.06-.94-.94-2.06-.94 2.06-2.06.94zm-11 1L8.5 8.5l.94-2.06 2.06-.94-2.06-.94L8.5 2.5l-.94 2.06-2.06.94zm10 10l.94 2.06.94-2.06 2.06-.94-2.06-.94-.94-2.06-.94 2.06-2.06.94z\"/><path d=\"M17.41 7.96l-1.37-1.37c-.4-.4-.92-.59-1.43-.59-.52 0-1.04.2-1.43.59L10.3 9.45l-7.72 7.72c-.78.78-.78 2.05 0 2.83L4 21.41c.39.39.9.59 1.41.59.51 0 1.02-.2 1.41-.59l7.78-7.78 2.81-2.81c.8-.78.8-2.07 0-2.86zM5.41 20L4 18.59l7.72-7.72 1.47 1.35L5.41 20z\"/>\n",
              "  </svg>\n",
              "      </button>\n",
              "      \n",
              "  <style>\n",
              "    .colab-df-container {\n",
              "      display:flex;\n",
              "      flex-wrap:wrap;\n",
              "      gap: 12px;\n",
              "    }\n",
              "\n",
              "    .colab-df-convert {\n",
              "      background-color: #E8F0FE;\n",
              "      border: none;\n",
              "      border-radius: 50%;\n",
              "      cursor: pointer;\n",
              "      display: none;\n",
              "      fill: #1967D2;\n",
              "      height: 32px;\n",
              "      padding: 0 0 0 0;\n",
              "      width: 32px;\n",
              "    }\n",
              "\n",
              "    .colab-df-convert:hover {\n",
              "      background-color: #E2EBFA;\n",
              "      box-shadow: 0px 1px 2px rgba(60, 64, 67, 0.3), 0px 1px 3px 1px rgba(60, 64, 67, 0.15);\n",
              "      fill: #174EA6;\n",
              "    }\n",
              "\n",
              "    [theme=dark] .colab-df-convert {\n",
              "      background-color: #3B4455;\n",
              "      fill: #D2E3FC;\n",
              "    }\n",
              "\n",
              "    [theme=dark] .colab-df-convert:hover {\n",
              "      background-color: #434B5C;\n",
              "      box-shadow: 0px 1px 3px 1px rgba(0, 0, 0, 0.15);\n",
              "      filter: drop-shadow(0px 1px 2px rgba(0, 0, 0, 0.3));\n",
              "      fill: #FFFFFF;\n",
              "    }\n",
              "  </style>\n",
              "\n",
              "      <script>\n",
              "        const buttonEl =\n",
              "          document.querySelector('#df-d4668198-167c-4800-ab7f-42b976921b49 button.colab-df-convert');\n",
              "        buttonEl.style.display =\n",
              "          google.colab.kernel.accessAllowed ? 'block' : 'none';\n",
              "\n",
              "        async function convertToInteractive(key) {\n",
              "          const element = document.querySelector('#df-d4668198-167c-4800-ab7f-42b976921b49');\n",
              "          const dataTable =\n",
              "            await google.colab.kernel.invokeFunction('convertToInteractive',\n",
              "                                                     [key], {});\n",
              "          if (!dataTable) return;\n",
              "\n",
              "          const docLinkHtml = 'Like what you see? Visit the ' +\n",
              "            '<a target=\"_blank\" href=https://colab.research.google.com/notebooks/data_table.ipynb>data table notebook</a>'\n",
              "            + ' to learn more about interactive tables.';\n",
              "          element.innerHTML = '';\n",
              "          dataTable['output_type'] = 'display_data';\n",
              "          await google.colab.output.renderOutput(dataTable, element);\n",
              "          const docLink = document.createElement('div');\n",
              "          docLink.innerHTML = docLinkHtml;\n",
              "          element.appendChild(docLink);\n",
              "        }\n",
              "      </script>\n",
              "    </div>\n",
              "  </div>\n",
              "  "
            ]
          },
          "metadata": {},
          "execution_count": 88
        }
      ]
    },
    {
      "cell_type": "code",
      "source": [
        "from sklearn import metrics\n",
        "print(\"R2 score : \",metrics.r2_score(y_test,y_pred))"
      ],
      "metadata": {
        "colab": {
          "base_uri": "https://localhost:8080/"
        },
        "id": "maJwyepKZkMc",
        "outputId": "e57d5ada-bc13-41f9-b21a-7e32db6b3a63"
      },
      "execution_count": null,
      "outputs": [
        {
          "output_type": "stream",
          "name": "stdout",
          "text": [
            "R2 score :  0.9166489103914935\n"
          ]
        }
      ]
    },
    {
      "cell_type": "code",
      "source": [
        "#Recursive Feature Estimation - Feature selection model that fits a model..\n",
        "from sklearn.feature_selection import RFE\n",
        "estimator = LinearRegression()\n",
        "selector = RFE(estimator, n_features_to_select=6, step=1)\n",
        "selector = selector.fit(X_train_scaled, y_train)\n",
        "list(zip(['Make_Buick', 'Make_Cadillac', 'Make_Chevrolet',\n",
        "       'Make_Pontiac', 'Make_SAAB', 'Make_Saturn', 'Model_9-2X AWD',\n",
        "       'Model_9_3', 'Model_9_3 HO', 'Model_9_5', 'Model_9_5 HO', 'Model_AVEO',\n",
        "       'Model_Bonneville', 'Model_CST-V', 'Model_CTS', 'Model_Cavalier',\n",
        "       'Model_Century', 'Model_Classic', 'Model_Cobalt', 'Model_Corvette',\n",
        "       'Model_Deville', 'Model_G6', 'Model_GTO', 'Model_Grand Am',\n",
        "       'Model_Grand Prix', 'Model_Impala', 'Model_Ion', 'Model_L Series',\n",
        "       'Model_Lacrosse', 'Model_Lesabre', 'Model_Malibu', 'Model_Monte Carlo',\n",
        "       'Model_Park Avenue', 'Model_STS-V6', 'Model_STS-V8', 'Model_Sunfire',\n",
        "       'Model_Vibe', 'Model_XLR-V8','Type_Convertible', 'Type_Coupe',\n",
        "       'Type_Hatchback', 'Type_Sedan', 'Type_Wagon'],selector.support_))"
      ],
      "metadata": {
        "colab": {
          "base_uri": "https://localhost:8080/"
        },
        "id": "2HRS1_cUZkRz",
        "outputId": "564cfaae-0e9e-443a-bbc8-4f4c8684f929"
      },
      "execution_count": null,
      "outputs": [
        {
          "output_type": "execute_result",
          "data": {
            "text/plain": [
              "[('Make_Buick', True),\n",
              " ('Make_Cadillac', True),\n",
              " ('Make_Chevrolet', False),\n",
              " ('Make_Pontiac', False),\n",
              " ('Make_SAAB', False),\n",
              " ('Make_Saturn', False),\n",
              " ('Model_9-2X AWD', False),\n",
              " ('Model_9_3', False),\n",
              " ('Model_9_3 HO', False),\n",
              " ('Model_9_5', False),\n",
              " ('Model_9_5 HO', False),\n",
              " ('Model_AVEO', False),\n",
              " ('Model_Bonneville', False),\n",
              " ('Model_CST-V', False),\n",
              " ('Model_CTS', False),\n",
              " ('Model_Cavalier', False),\n",
              " ('Model_Century', True),\n",
              " ('Model_Classic', False),\n",
              " ('Model_Cobalt', False),\n",
              " ('Model_Corvette', False),\n",
              " ('Model_Deville', False),\n",
              " ('Model_G6', False),\n",
              " ('Model_GTO', False),\n",
              " ('Model_Grand Am', False),\n",
              " ('Model_Grand Prix', False),\n",
              " ('Model_Impala', False),\n",
              " ('Model_Ion', False),\n",
              " ('Model_L Series', False),\n",
              " ('Model_Lacrosse', True),\n",
              " ('Model_Lesabre', True),\n",
              " ('Model_Malibu', False),\n",
              " ('Model_Monte Carlo', False),\n",
              " ('Model_Park Avenue', True),\n",
              " ('Model_STS-V6', False),\n",
              " ('Model_STS-V8', False),\n",
              " ('Model_Sunfire', False),\n",
              " ('Model_Vibe', False),\n",
              " ('Model_XLR-V8', False),\n",
              " ('Type_Convertible', False),\n",
              " ('Type_Coupe', False),\n",
              " ('Type_Hatchback', False),\n",
              " ('Type_Sedan', False),\n",
              " ('Type_Wagon', False)]"
            ]
          },
          "metadata": {},
          "execution_count": 90
        }
      ]
    },
    {
      "cell_type": "markdown",
      "source": [
        "R2 Score for this model is 91 % \n",
        "\n",
        "The best combinations factors for predicting price are **Make_Buick**, **Make_cadillac**, **Make_century**,**Make_Lacrosse**,**Make_Lesabre**,**Make_Park_Avenue**.."
      ],
      "metadata": {
        "id": "2_U8VkT8bX1u"
      }
    },
    {
      "cell_type": "code",
      "source": [],
      "metadata": {
        "id": "raXX3SVzZkXc"
      },
      "execution_count": null,
      "outputs": []
    }
  ],
  "metadata": {
    "kernelspec": {
      "display_name": "Python 3",
      "language": "python",
      "name": "python3"
    },
    "language_info": {
      "codemirror_mode": {
        "name": "ipython",
        "version": 3
      },
      "file_extension": ".py",
      "mimetype": "text/x-python",
      "name": "python",
      "nbconvert_exporter": "python",
      "pygments_lexer": "ipython3",
      "version": "3.8.3"
    },
    "colab": {
      "provenance": [],
      "include_colab_link": true
    }
  },
  "nbformat": 4,
  "nbformat_minor": 0
}